{
 "cells": [
  {
   "cell_type": "markdown",
   "metadata": {},
   "source": [
    "# Sparkify Project Workspace\n",
    "This workspace contains a tiny subset (128MB) of the full dataset available (12GB). Feel free to use this workspace to build your project, or to explore a smaller subset with Spark before deploying your cluster on the cloud. Instructions for setting up your Spark cluster is included in the last lesson of the Extracurricular Spark Course content.\n",
    "\n",
    "You can follow the steps below to guide your data analysis and model building portion of this project."
   ]
  },
  {
   "cell_type": "code",
   "execution_count": 1,
   "metadata": {},
   "outputs": [],
   "source": [
    "# import libraries\n",
    "import pyspark\n",
    "from pyspark import SparkConf\n",
    "from pyspark.sql import SparkSession\n",
    "\n",
    "from pyspark.sql import SparkSession\n",
    "from pyspark.sql.functions import udf\n",
    "from pyspark.sql.types import StringType, TimestampType\n",
    "from pyspark.sql.types import IntegerType, DateType\n",
    "from pyspark.sql.functions import desc\n",
    "from pyspark.sql.functions import asc\n",
    "from pyspark.sql.functions import sum as Fsum\n",
    "from pyspark.sql import Window\n",
    "\n",
    "from datetime import datetime\n",
    "\n",
    "from pyspark.sql.types import IntegerType\n",
    "from pyspark.ml.feature import RegexTokenizer, VectorAssembler\n",
    "\n",
    "from pyspark.sql.functions import isnan, count, when, col, desc, udf, col, sort_array, asc, avg, lit\n",
    "from pyspark.sql.functions import explode, min, max, split, stddev, countDistinct\n",
    "from pyspark.sql.functions import to_date, datediff, current_timestamp\n",
    "\n",
    "import numpy as np\n",
    "import pandas as pd\n",
    "%matplotlib inline\n",
    "import matplotlib.pyplot as plt\n",
    "import seaborn as sns\n",
    "\n",
    "from time import time"
   ]
  },
  {
   "cell_type": "code",
   "execution_count": 2,
   "metadata": {},
   "outputs": [
    {
     "data": {
      "text/plain": [
       "[('spark.driver.port', '33369'),\n",
       " ('spark.rdd.compress', 'True'),\n",
       " ('spark.serializer.objectStreamReset', '100'),\n",
       " ('spark.master', 'local[*]'),\n",
       " ('spark.executor.id', 'driver'),\n",
       " ('spark.submit.deployMode', 'client'),\n",
       " ('spark.app.name', 'churn-prediction'),\n",
       " ('spark.driver.host', 'b843bd0fa8a8'),\n",
       " ('spark.app.id', 'local-1586031935721'),\n",
       " ('spark.ui.showConsoleProgress', 'true')]"
      ]
     },
     "execution_count": 2,
     "metadata": {},
     "output_type": "execute_result"
    }
   ],
   "source": [
    "# create a Spark session\n",
    "spark = SparkSession \\\n",
    "    .builder \\\n",
    "    .appName(\"churn-prediction\") \\\n",
    "    .getOrCreate()\n",
    "    \n",
    "spark.sparkContext.getConf().getAll()"
   ]
  },
  {
   "cell_type": "code",
   "execution_count": 3,
   "metadata": {},
   "outputs": [
    {
     "data": {
      "text/html": [
       "\n",
       "            <div>\n",
       "                <p><b>SparkSession - in-memory</b></p>\n",
       "                \n",
       "        <div>\n",
       "            <p><b>SparkContext</b></p>\n",
       "\n",
       "            <p><a href=\"http://b843bd0fa8a8:4040\">Spark UI</a></p>\n",
       "\n",
       "            <dl>\n",
       "              <dt>Version</dt>\n",
       "                <dd><code>v2.4.3</code></dd>\n",
       "              <dt>Master</dt>\n",
       "                <dd><code>local[*]</code></dd>\n",
       "              <dt>AppName</dt>\n",
       "                <dd><code>churn-prediction</code></dd>\n",
       "            </dl>\n",
       "        </div>\n",
       "        \n",
       "            </div>\n",
       "        "
      ],
      "text/plain": [
       "<pyspark.sql.session.SparkSession at 0x7f132084d5f8>"
      ]
     },
     "execution_count": 3,
     "metadata": {},
     "output_type": "execute_result"
    }
   ],
   "source": [
    "spark"
   ]
  },
  {
   "cell_type": "markdown",
   "metadata": {},
   "source": [
    "# Load and Clean Dataset\n",
    "In this workspace, the mini-dataset file is `mini_sparkify_event_data.json`. Load and clean the dataset, checking for invalid or missing data - for example, records without userids or sessionids. "
   ]
  },
  {
   "cell_type": "markdown",
   "metadata": {},
   "source": [
    "### Comment: We will also perform some data exploration here"
   ]
  },
  {
   "cell_type": "code",
   "execution_count": 4,
   "metadata": {},
   "outputs": [],
   "source": [
    "path = \"mini_sparkify_event_data.json\"\n",
    "user_log = spark.read.json(path)"
   ]
  },
  {
   "cell_type": "code",
   "execution_count": 5,
   "metadata": {},
   "outputs": [
    {
     "name": "stdout",
     "output_type": "stream",
     "text": [
      "root\n",
      " |-- artist: string (nullable = true)\n",
      " |-- auth: string (nullable = true)\n",
      " |-- firstName: string (nullable = true)\n",
      " |-- gender: string (nullable = true)\n",
      " |-- itemInSession: long (nullable = true)\n",
      " |-- lastName: string (nullable = true)\n",
      " |-- length: double (nullable = true)\n",
      " |-- level: string (nullable = true)\n",
      " |-- location: string (nullable = true)\n",
      " |-- method: string (nullable = true)\n",
      " |-- page: string (nullable = true)\n",
      " |-- registration: long (nullable = true)\n",
      " |-- sessionId: long (nullable = true)\n",
      " |-- song: string (nullable = true)\n",
      " |-- status: long (nullable = true)\n",
      " |-- ts: long (nullable = true)\n",
      " |-- userAgent: string (nullable = true)\n",
      " |-- userId: string (nullable = true)\n",
      "\n"
     ]
    }
   ],
   "source": [
    "user_log.printSchema()"
   ]
  },
  {
   "cell_type": "markdown",
   "metadata": {},
   "source": [
    "### Some general numbers"
   ]
  },
  {
   "cell_type": "code",
   "execution_count": 6,
   "metadata": {},
   "outputs": [
    {
     "name": "stdout",
     "output_type": "stream",
     "text": [
      "There are 286500 rows in this dataset.\n",
      "Number of different Artists listened to is 17656.\n",
      "and containing 58481 different songs\n",
      "Data from 115 different locations\n",
      "On 226 different users\n"
     ]
    }
   ],
   "source": [
    "print('There are {} rows in this dataset.'.format(user_log.count()))\n",
    "print('Number of different Artists listened to is {}.'.format(user_log.select(\"artist\").dropDuplicates().toPandas().shape[0]))\n",
    "print('and containing {} different songs'.format(user_log.select(\"song\").dropDuplicates().toPandas().shape[0]))\n",
    "print('Data from {} different locations'.format(user_log.select(\"location\").dropDuplicates().toPandas().shape[0]))\n",
    "print('On {} different users'.format(user_log.select(\"userId\").dropDuplicates().toPandas().shape[0]))"
   ]
  },
  {
   "cell_type": "markdown",
   "metadata": {},
   "source": [
    "### Length of Song"
   ]
  },
  {
   "cell_type": "code",
   "execution_count": 7,
   "metadata": {},
   "outputs": [
    {
     "name": "stdout",
     "output_type": "stream",
     "text": [
      "Numeric Statistics about the length of every session\n",
      "+-------+-----------------+\n",
      "|summary|           length|\n",
      "+-------+-----------------+\n",
      "|  count|           228108|\n",
      "|   mean|249.1171819778458|\n",
      "| stddev|99.23517921058361|\n",
      "|    min|          0.78322|\n",
      "|    max|       3024.66567|\n",
      "+-------+-----------------+\n",
      "\n"
     ]
    }
   ],
   "source": [
    "print('Numeric Statistics about the length of every session')\n",
    "user_log.describe('length').show()"
   ]
  },
  {
   "cell_type": "markdown",
   "metadata": {},
   "source": [
    "A song with a duration of 3024 second? a song with a duration of 0.78 seconds?"
   ]
  },
  {
   "cell_type": "code",
   "execution_count": 8,
   "metadata": {},
   "outputs": [
    {
     "data": {
      "text/plain": [
       "Row(artist='Monolithe', song='Monolithe II')"
      ]
     },
     "execution_count": 8,
     "metadata": {},
     "output_type": "execute_result"
    }
   ],
   "source": [
    "user_log.where(col('length') == user_log.agg({\"length\": \"max\"}).collect()[0][0]).select(['artist','song']).collect()[0]"
   ]
  },
  {
   "cell_type": "markdown",
   "metadata": {},
   "source": [
    "From a quick search on google: \"The length of the song, at a whopping 50:37 is hard to digest completely within one session\". Yep, that seems to be actually the case.\n",
    "\n",
    "What about the shortest one?"
   ]
  },
  {
   "cell_type": "code",
   "execution_count": 9,
   "metadata": {},
   "outputs": [
    {
     "data": {
      "text/plain": [
       "Row(artist='Dorantes', song='La Danza De Las Sombras')"
      ]
     },
     "execution_count": 9,
     "metadata": {},
     "output_type": "execute_result"
    }
   ],
   "source": [
    "user_log.where(col('length') == user_log.agg({\"length\": \"min\"}).collect()[0][0]).select(['artist','song']).collect()[0]"
   ]
  },
  {
   "cell_type": "markdown",
   "metadata": {},
   "source": [
    "Looking on google we find that the duration of that song is about 4 minutes long. So probably we have some data points for which the song length is not correct. Let's look at the histogram"
   ]
  },
  {
   "cell_type": "code",
   "execution_count": 10,
   "metadata": {},
   "outputs": [
    {
     "data": {
      "text/plain": [
       "<matplotlib.axes._subplots.AxesSubplot at 0x7f13208562b0>"
      ]
     },
     "execution_count": 10,
     "metadata": {},
     "output_type": "execute_result"
    },
    {
     "data": {
      "image/png": "[encoded data removed]",
      "text/plain": [
       "<matplotlib.figure.Figure at 0x7f1320856278>"
      ]
     },
     "metadata": {
      "needs_background": "light"
     },
     "output_type": "display_data"
    }
   ],
   "source": [
    "song_length = user_log.where(col('length') >= 0).select('length').toPandas()\n",
    "song_length['length'].hist(bins=20)"
   ]
  },
  {
   "cell_type": "code",
   "execution_count": 11,
   "metadata": {},
   "outputs": [
    {
     "data": {
      "text/plain": [
       "<matplotlib.lines.Line2D at 0x7f131712a358>"
      ]
     },
     "execution_count": 11,
     "metadata": {},
     "output_type": "execute_result"
    },
    {
     "data": {
      "image/png": "[encoded data removed]",
      "text/plain": [
       "<matplotlib.figure.Figure at 0x7f131b16f8d0>"
      ]
     },
     "metadata": {
      "needs_background": "light"
     },
     "output_type": "display_data"
    }
   ],
   "source": [
    "song_length = user_log.where(col('length') <= 600).select('length').toPandas()\n",
    "song_length['length'].hist(bins=20)\n",
    "plt.axvline(x=user_log.agg({\"length\": \"mean\"}).collect()[0][0], color='black')"
   ]
  },
  {
   "cell_type": "markdown",
   "metadata": {},
   "source": [
    "Wow. Such normal. Although we know that there is a long long tail we are filtering out in the viz above, as we can tell by the mean being displaced to the right of the center of the ditribution. But nevertheless, Having a normal distribution for length songs makes sense, and altough we might have some erroneos values for length, they are not biasing this distribution in any way. We may proceed."
   ]
  },
  {
   "cell_type": "markdown",
   "metadata": {},
   "source": [
    "### Gender"
   ]
  },
  {
   "cell_type": "markdown",
   "metadata": {},
   "source": [
    "It might look that gender is uncorrectly filled for some users, but those 'None' entries come from sessions that are not logged."
   ]
  },
  {
   "cell_type": "code",
   "execution_count": 12,
   "metadata": {},
   "outputs": [
    {
     "data": {
      "text/plain": [
       "[Row(gender='F', count=154578),\n",
       " Row(gender=None, count=8346),\n",
       " Row(gender='M', count=123576)]"
      ]
     },
     "execution_count": 12,
     "metadata": {},
     "output_type": "execute_result"
    }
   ],
   "source": [
    "user_log.groupby(\"gender\").count().collect()"
   ]
  },
  {
   "cell_type": "markdown",
   "metadata": {},
   "source": [
    "### Items in Session"
   ]
  },
  {
   "cell_type": "markdown",
   "metadata": {},
   "source": [
    "There are extraordinarily large numbers in itemInSessions, but the reason might be as easy as users not logging out in several days from the application and therefore accumulating items for several days."
   ]
  },
  {
   "cell_type": "code",
   "execution_count": 13,
   "metadata": {},
   "outputs": [
    {
     "data": {
      "text/plain": [
       "<matplotlib.axes._subplots.AxesSubplot at 0x7f1319190be0>"
      ]
     },
     "execution_count": 13,
     "metadata": {},
     "output_type": "execute_result"
    },
    {
     "data": {
      "image/png": "[encoded data removed]",
      "text/plain": [
       "<matplotlib.figure.Figure at 0x7f1317110be0>"
      ]
     },
     "metadata": {
      "needs_background": "light"
     },
     "output_type": "display_data"
    }
   ],
   "source": [
    "user_log.select('itemInSession').toPandas()['itemInSession'].hist()"
   ]
  },
  {
   "cell_type": "markdown",
   "metadata": {},
   "source": [
    "### Relationship between AUTH and PAGE\n",
    "\n",
    "From what we see below: \n",
    "\n",
    "* **Logged in** corresponds to the normal usage of the application, with users navigating through different sections of the app, playing songs, and finally returning to home or logging out.\n",
    "\n",
    "* Logged out: about, help, error (404), home and login. We do not have userId either when users are logged out from the application.\n",
    "\n",
    "* Guests only can access the following pages: register, about, submit registration, help, home and error (page 404). As we do not have userID for guest or any other mean to track them if they afterward become users, this auth is of no use for us. Probably if we see a guest registering, and a new user id popping up right afterwards we could relate them, by timestamp, but I do not think this is needed for our analysis just yet.\n",
    "\n",
    "* auth **Cancelled** corresponds to page 'Cancellation confirmation', which is pretty useful for us to track actual cancellations. They contain userID and User information.\n",
    "\n",
    "Most interesting one is therefore Logged in, which tells us how each user behaves while using the app"
   ]
  },
  {
   "cell_type": "code",
   "execution_count": 14,
   "metadata": {},
   "outputs": [
    {
     "data": {
      "text/html": [
       "<div>\n",
       "<style scoped>\n",
       "    .dataframe tbody tr th:only-of-type {\n",
       "        vertical-align: middle;\n",
       "    }\n",
       "\n",
       "    .dataframe tbody tr th {\n",
       "        vertical-align: top;\n",
       "    }\n",
       "\n",
       "    .dataframe thead th {\n",
       "        text-align: right;\n",
       "    }\n",
       "</style>\n",
       "<table border=\"1\" class=\"dataframe\">\n",
       "  <thead>\n",
       "    <tr style=\"text-align: right;\">\n",
       "      <th></th>\n",
       "      <th>auth</th>\n",
       "    </tr>\n",
       "  </thead>\n",
       "  <tbody>\n",
       "    <tr>\n",
       "      <th>0</th>\n",
       "      <td>Logged Out</td>\n",
       "    </tr>\n",
       "    <tr>\n",
       "      <th>1</th>\n",
       "      <td>Cancelled</td>\n",
       "    </tr>\n",
       "    <tr>\n",
       "      <th>2</th>\n",
       "      <td>Guest</td>\n",
       "    </tr>\n",
       "    <tr>\n",
       "      <th>3</th>\n",
       "      <td>Logged In</td>\n",
       "    </tr>\n",
       "  </tbody>\n",
       "</table>\n",
       "</div>"
      ],
      "text/plain": [
       "         auth\n",
       "0  Logged Out\n",
       "1   Cancelled\n",
       "2       Guest\n",
       "3   Logged In"
      ]
     },
     "execution_count": 14,
     "metadata": {},
     "output_type": "execute_result"
    }
   ],
   "source": [
    "user_log.select(\"auth\").dropDuplicates().toPandas()"
   ]
  },
  {
   "cell_type": "code",
   "execution_count": 15,
   "metadata": {},
   "outputs": [
    {
     "data": {
      "text/html": [
       "<div>\n",
       "<style scoped>\n",
       "    .dataframe tbody tr th:only-of-type {\n",
       "        vertical-align: middle;\n",
       "    }\n",
       "\n",
       "    .dataframe tbody tr th {\n",
       "        vertical-align: top;\n",
       "    }\n",
       "\n",
       "    .dataframe thead th {\n",
       "        text-align: right;\n",
       "    }\n",
       "</style>\n",
       "<table border=\"1\" class=\"dataframe\">\n",
       "  <thead>\n",
       "    <tr style=\"text-align: right;\">\n",
       "      <th></th>\n",
       "      <th>auth</th>\n",
       "      <th>page</th>\n",
       "      <th>count</th>\n",
       "    </tr>\n",
       "  </thead>\n",
       "  <tbody>\n",
       "    <tr>\n",
       "      <th>22</th>\n",
       "      <td>Cancelled</td>\n",
       "      <td>Cancellation Confirmation</td>\n",
       "      <td>52</td>\n",
       "    </tr>\n",
       "    <tr>\n",
       "      <th>2</th>\n",
       "      <td>Guest</td>\n",
       "      <td>Register</td>\n",
       "      <td>18</td>\n",
       "    </tr>\n",
       "    <tr>\n",
       "      <th>26</th>\n",
       "      <td>Guest</td>\n",
       "      <td>Help</td>\n",
       "      <td>23</td>\n",
       "    </tr>\n",
       "    <tr>\n",
       "      <th>5</th>\n",
       "      <td>Guest</td>\n",
       "      <td>About</td>\n",
       "      <td>14</td>\n",
       "    </tr>\n",
       "    <tr>\n",
       "      <th>7</th>\n",
       "      <td>Guest</td>\n",
       "      <td>Error</td>\n",
       "      <td>1</td>\n",
       "    </tr>\n",
       "    <tr>\n",
       "      <th>17</th>\n",
       "      <td>Guest</td>\n",
       "      <td>Submit Registration</td>\n",
       "      <td>5</td>\n",
       "    </tr>\n",
       "    <tr>\n",
       "      <th>28</th>\n",
       "      <td>Guest</td>\n",
       "      <td>Home</td>\n",
       "      <td>36</td>\n",
       "    </tr>\n",
       "    <tr>\n",
       "      <th>14</th>\n",
       "      <td>Logged In</td>\n",
       "      <td>Help</td>\n",
       "      <td>1454</td>\n",
       "    </tr>\n",
       "    <tr>\n",
       "      <th>27</th>\n",
       "      <td>Logged In</td>\n",
       "      <td>Cancel</td>\n",
       "      <td>52</td>\n",
       "    </tr>\n",
       "    <tr>\n",
       "      <th>25</th>\n",
       "      <td>Logged In</td>\n",
       "      <td>Upgrade</td>\n",
       "      <td>499</td>\n",
       "    </tr>\n",
       "    <tr>\n",
       "      <th>24</th>\n",
       "      <td>Logged In</td>\n",
       "      <td>Downgrade</td>\n",
       "      <td>2055</td>\n",
       "    </tr>\n",
       "    <tr>\n",
       "      <th>23</th>\n",
       "      <td>Logged In</td>\n",
       "      <td>Add Friend</td>\n",
       "      <td>4277</td>\n",
       "    </tr>\n",
       "    <tr>\n",
       "      <th>21</th>\n",
       "      <td>Logged In</td>\n",
       "      <td>Home</td>\n",
       "      <td>10082</td>\n",
       "    </tr>\n",
       "    <tr>\n",
       "      <th>19</th>\n",
       "      <td>Logged In</td>\n",
       "      <td>Error</td>\n",
       "      <td>252</td>\n",
       "    </tr>\n",
       "    <tr>\n",
       "      <th>18</th>\n",
       "      <td>Logged In</td>\n",
       "      <td>Add to Playlist</td>\n",
       "      <td>6526</td>\n",
       "    </tr>\n",
       "    <tr>\n",
       "      <th>16</th>\n",
       "      <td>Logged In</td>\n",
       "      <td>About</td>\n",
       "      <td>495</td>\n",
       "    </tr>\n",
       "    <tr>\n",
       "      <th>29</th>\n",
       "      <td>Logged In</td>\n",
       "      <td>Submit Downgrade</td>\n",
       "      <td>63</td>\n",
       "    </tr>\n",
       "    <tr>\n",
       "      <th>13</th>\n",
       "      <td>Logged In</td>\n",
       "      <td>Save Settings</td>\n",
       "      <td>310</td>\n",
       "    </tr>\n",
       "    <tr>\n",
       "      <th>11</th>\n",
       "      <td>Logged In</td>\n",
       "      <td>Thumbs Down</td>\n",
       "      <td>2546</td>\n",
       "    </tr>\n",
       "    <tr>\n",
       "      <th>10</th>\n",
       "      <td>Logged In</td>\n",
       "      <td>Settings</td>\n",
       "      <td>1514</td>\n",
       "    </tr>\n",
       "    <tr>\n",
       "      <th>8</th>\n",
       "      <td>Logged In</td>\n",
       "      <td>Submit Upgrade</td>\n",
       "      <td>159</td>\n",
       "    </tr>\n",
       "    <tr>\n",
       "      <th>6</th>\n",
       "      <td>Logged In</td>\n",
       "      <td>Roll Advert</td>\n",
       "      <td>3933</td>\n",
       "    </tr>\n",
       "    <tr>\n",
       "      <th>3</th>\n",
       "      <td>Logged In</td>\n",
       "      <td>Thumbs Up</td>\n",
       "      <td>12551</td>\n",
       "    </tr>\n",
       "    <tr>\n",
       "      <th>1</th>\n",
       "      <td>Logged In</td>\n",
       "      <td>Logout</td>\n",
       "      <td>3226</td>\n",
       "    </tr>\n",
       "    <tr>\n",
       "      <th>15</th>\n",
       "      <td>Logged In</td>\n",
       "      <td>NextSong</td>\n",
       "      <td>228108</td>\n",
       "    </tr>\n",
       "    <tr>\n",
       "      <th>12</th>\n",
       "      <td>Logged Out</td>\n",
       "      <td>Help</td>\n",
       "      <td>249</td>\n",
       "    </tr>\n",
       "    <tr>\n",
       "      <th>20</th>\n",
       "      <td>Logged Out</td>\n",
       "      <td>About</td>\n",
       "      <td>415</td>\n",
       "    </tr>\n",
       "    <tr>\n",
       "      <th>9</th>\n",
       "      <td>Logged Out</td>\n",
       "      <td>Login</td>\n",
       "      <td>3241</td>\n",
       "    </tr>\n",
       "    <tr>\n",
       "      <th>4</th>\n",
       "      <td>Logged Out</td>\n",
       "      <td>Error</td>\n",
       "      <td>5</td>\n",
       "    </tr>\n",
       "    <tr>\n",
       "      <th>0</th>\n",
       "      <td>Logged Out</td>\n",
       "      <td>Home</td>\n",
       "      <td>4339</td>\n",
       "    </tr>\n",
       "  </tbody>\n",
       "</table>\n",
       "</div>"
      ],
      "text/plain": [
       "          auth                       page   count\n",
       "22   Cancelled  Cancellation Confirmation      52\n",
       "2        Guest                   Register      18\n",
       "26       Guest                       Help      23\n",
       "5        Guest                      About      14\n",
       "7        Guest                      Error       1\n",
       "17       Guest        Submit Registration       5\n",
       "28       Guest                       Home      36\n",
       "14   Logged In                       Help    1454\n",
       "27   Logged In                     Cancel      52\n",
       "25   Logged In                    Upgrade     499\n",
       "24   Logged In                  Downgrade    2055\n",
       "23   Logged In                 Add Friend    4277\n",
       "21   Logged In                       Home   10082\n",
       "19   Logged In                      Error     252\n",
       "18   Logged In            Add to Playlist    6526\n",
       "16   Logged In                      About     495\n",
       "29   Logged In           Submit Downgrade      63\n",
       "13   Logged In              Save Settings     310\n",
       "11   Logged In                Thumbs Down    2546\n",
       "10   Logged In                   Settings    1514\n",
       "8    Logged In             Submit Upgrade     159\n",
       "6    Logged In                Roll Advert    3933\n",
       "3    Logged In                  Thumbs Up   12551\n",
       "1    Logged In                     Logout    3226\n",
       "15   Logged In                   NextSong  228108\n",
       "12  Logged Out                       Help     249\n",
       "20  Logged Out                      About     415\n",
       "9   Logged Out                      Login    3241\n",
       "4   Logged Out                      Error       5\n",
       "0   Logged Out                       Home    4339"
      ]
     },
     "execution_count": 15,
     "metadata": {},
     "output_type": "execute_result"
    }
   ],
   "source": [
    "user_log.groupby([\"auth\",\"page\"]).count().toPandas().sort_values(by='auth')"
   ]
  },
  {
   "cell_type": "markdown",
   "metadata": {},
   "source": [
    "### Subscription level"
   ]
  },
  {
   "cell_type": "code",
   "execution_count": 16,
   "metadata": {},
   "outputs": [
    {
     "data": {
      "text/plain": [
       "[Row(level='free', count=58338), Row(level='paid', count=228162)]"
      ]
     },
     "execution_count": 16,
     "metadata": {},
     "output_type": "execute_result"
    }
   ],
   "source": [
    "user_log.groupby(\"level\").count().collect()"
   ]
  },
  {
   "cell_type": "markdown",
   "metadata": {},
   "source": [
    "### Location"
   ]
  },
  {
   "cell_type": "code",
   "execution_count": 17,
   "metadata": {},
   "outputs": [
    {
     "data": {
      "text/plain": [
       "[Row(location='Los Angeles-Long Beach-Anaheim, CA', count=30131),\n",
       " Row(location='New York-Newark-Jersey City, NY-NJ-PA', count=23684),\n",
       " Row(location='Boston-Cambridge-Newton, MA-NH', count=13873),\n",
       " Row(location='Houston-The Woodlands-Sugar Land, TX', count=9499),\n",
       " Row(location=None, count=8346),\n",
       " Row(location='Charlotte-Concord-Gastonia, NC-SC', count=7780),\n",
       " Row(location='Dallas-Fort Worth-Arlington, TX', count=7605),\n",
       " Row(location='Louisville/Jefferson County, KY-IN', count=6880),\n",
       " Row(location='Philadelphia-Camden-Wilmington, PA-NJ-DE-MD', count=5890),\n",
       " Row(location='Chicago-Naperville-Elgin, IL-IN-WI', count=5114)]"
      ]
     },
     "execution_count": 17,
     "metadata": {},
     "output_type": "execute_result"
    }
   ],
   "source": [
    "user_log.groupby(\"location\").count().orderBy('count', ascending=False).take(10)"
   ]
  },
  {
   "cell_type": "code",
   "execution_count": 18,
   "metadata": {},
   "outputs": [
    {
     "data": {
      "text/plain": [
       "<matplotlib.axes._subplots.AxesSubplot at 0x7f13196af978>"
      ]
     },
     "execution_count": 18,
     "metadata": {},
     "output_type": "execute_result"
    },
    {
     "data": {
      "image/png": "[encoded data removed]",
      "text/plain": [
       "<matplotlib.figure.Figure at 0x7f13196afcf8>"
      ]
     },
     "metadata": {
      "needs_background": "light"
     },
     "output_type": "display_data"
    }
   ],
   "source": [
    "location_count = user_log.groupby(\"location\").count().orderBy('count', ascending=False).toPandas()\n",
    "location_count['count'].hist(bins=20)"
   ]
  },
  {
   "cell_type": "markdown",
   "metadata": {},
   "source": [
    "### Method"
   ]
  },
  {
   "cell_type": "code",
   "execution_count": 19,
   "metadata": {},
   "outputs": [
    {
     "data": {
      "text/plain": [
       "[Row(method='PUT', count=261064), Row(method='GET', count=25436)]"
      ]
     },
     "execution_count": 19,
     "metadata": {},
     "output_type": "execute_result"
    }
   ],
   "source": [
    "user_log.groupby(\"method\").count().collect()"
   ]
  },
  {
   "cell_type": "markdown",
   "metadata": {},
   "source": [
    "### Error code 404 and page 'Error' refer to the same entries"
   ]
  },
  {
   "cell_type": "code",
   "execution_count": 20,
   "metadata": {},
   "outputs": [
    {
     "data": {
      "text/plain": [
       "[Row(page='Cancel', count=52),\n",
       " Row(page='Submit Downgrade', count=63),\n",
       " Row(page='Thumbs Down', count=2546),\n",
       " Row(page='Home', count=14457),\n",
       " Row(page='Downgrade', count=2055),\n",
       " Row(page='Roll Advert', count=3933),\n",
       " Row(page='Logout', count=3226),\n",
       " Row(page='Save Settings', count=310),\n",
       " Row(page='Cancellation Confirmation', count=52),\n",
       " Row(page='About', count=924),\n",
       " Row(page='Submit Registration', count=5),\n",
       " Row(page='Settings', count=1514),\n",
       " Row(page='Login', count=3241),\n",
       " Row(page='Register', count=18),\n",
       " Row(page='Add to Playlist', count=6526),\n",
       " Row(page='Add Friend', count=4277),\n",
       " Row(page='NextSong', count=228108),\n",
       " Row(page='Thumbs Up', count=12551),\n",
       " Row(page='Help', count=1726),\n",
       " Row(page='Upgrade', count=499),\n",
       " Row(page='Error', count=258),\n",
       " Row(page='Submit Upgrade', count=159)]"
      ]
     },
     "execution_count": 20,
     "metadata": {},
     "output_type": "execute_result"
    }
   ],
   "source": [
    "user_log.groupby(\"page\").count().collect()"
   ]
  },
  {
   "cell_type": "code",
   "execution_count": 21,
   "metadata": {},
   "outputs": [
    {
     "data": {
      "text/plain": [
       "[Row(status=307, count=26430),\n",
       " Row(status=404, count=258),\n",
       " Row(status=200, count=259812)]"
      ]
     },
     "execution_count": 21,
     "metadata": {},
     "output_type": "execute_result"
    }
   ],
   "source": [
    "user_log.groupby(\"status\").count().collect()"
   ]
  },
  {
   "cell_type": "code",
   "execution_count": 22,
   "metadata": {},
   "outputs": [
    {
     "data": {
      "text/plain": [
       "[Row(artist=None, auth='Cancelled', firstName='Adriel', gender='M', itemInSession=104, lastName='Mendoza', length=None, level='paid', location='Kansas City, MO-KS', method='GET', page='Cancellation Confirmation', registration=1535623466000, sessionId=514, song=None, status=200, ts=1538943990000, userAgent='\"Mozilla/5.0 (Macintosh; Intel Mac OS X 10_9_4) AppleWebKit/537.77.4 (KHTML, like Gecko) Version/7.0.5 Safari/537.77.4\"', userId='18')]"
      ]
     },
     "execution_count": 22,
     "metadata": {},
     "output_type": "execute_result"
    }
   ],
   "source": [
    "user_log.filter(user_log.auth == 'Cancelled').take(1)"
   ]
  },
  {
   "cell_type": "code",
   "execution_count": 23,
   "metadata": {},
   "outputs": [
    {
     "name": "stdout",
     "output_type": "stream",
     "text": [
      "artist 58392\n",
      "auth 0\n",
      "firstName 8346\n",
      "gender 8346\n",
      "itemInSession 0\n",
      "lastName 8346\n",
      "length 58392\n",
      "level 0\n",
      "location 8346\n",
      "method 0\n",
      "page 0\n",
      "registration 8346\n",
      "sessionId 0\n",
      "song 58392\n",
      "status 0\n",
      "ts 0\n",
      "userAgent 8346\n",
      "userId 0\n"
     ]
    }
   ],
   "source": [
    "for column in user_log.columns:\n",
    "    print(column, user_log.where(col(column).isNull()).count())"
   ]
  },
  {
   "cell_type": "code",
   "execution_count": 24,
   "metadata": {},
   "outputs": [
    {
     "name": "stdout",
     "output_type": "stream",
     "text": [
      "artist 0\n",
      "auth 0\n",
      "firstName 0\n",
      "gender 0\n",
      "itemInSession 0\n",
      "lastName 0\n",
      "length 0\n",
      "level 0\n",
      "location 0\n",
      "method 0\n",
      "page 0\n",
      "registration 0\n",
      "sessionId 0\n",
      "song 0\n",
      "status 0\n",
      "ts 0\n",
      "userAgent 0\n",
      "userId 8346\n"
     ]
    }
   ],
   "source": [
    "for column in user_log.columns:\n",
    "    print(column, user_log.where(col(column) == '').count())"
   ]
  },
  {
   "cell_type": "markdown",
   "metadata": {},
   "source": [
    "### Some cleaning happens here:\n",
    "\n",
    "We would like to replace empty userId strings by actual NAN values"
   ]
  },
  {
   "cell_type": "code",
   "execution_count": 25,
   "metadata": {},
   "outputs": [],
   "source": [
    "user_log = user_log.replace(to_replace='', value=None, subset=['userId'])"
   ]
  },
  {
   "cell_type": "markdown",
   "metadata": {},
   "source": [
    "### Sort by UserID, and then by Timestamp (ascending)"
   ]
  },
  {
   "cell_type": "code",
   "execution_count": 26,
   "metadata": {},
   "outputs": [],
   "source": [
    "user_log = user_log.orderBy([\"userId\", \"ts\"], ascending=[1, 1])"
   ]
  },
  {
   "cell_type": "markdown",
   "metadata": {},
   "source": [
    "### Convert from timestamp to datetime, to see exactly how wide a timeline we are covering"
   ]
  },
  {
   "cell_type": "markdown",
   "metadata": {},
   "source": [
    "We faced two issues here; first, out ts field is in miliseconds, not seconds, that has an easy solution though. Second is actually transforming the timestamp in second to datetime.\n",
    "\n",
    "https://stackoverflow.com/questions/51983037/convert-from-timestamp-to-specific-date-in-pyspark"
   ]
  },
  {
   "cell_type": "code",
   "execution_count": 27,
   "metadata": {},
   "outputs": [],
   "source": [
    "#transform from miliseconds to seconds\n",
    "\n",
    "user_log = user_log.withColumn('ts_in_seconds', user_log.ts/1000)\n",
    "user_log = user_log.withColumn('registration_in_seconds', user_log.registration/1000)"
   ]
  },
  {
   "cell_type": "code",
   "execution_count": 28,
   "metadata": {},
   "outputs": [],
   "source": [
    "# Create a function that returns the desired string from a timestamp \n",
    "def format_timestamp(ts):\n",
    "    return datetime.fromtimestamp(ts).strftime('%Y-%m-%d %H:%M:%S')\n",
    "\n",
    "# Create the UDF\n",
    "format_timestamp_udf = udf(lambda x: format_timestamp(x))\n",
    "\n",
    "# Finally, apply the function to each element of the 'timestamp' column\n",
    "user_log = user_log.withColumn('datetime', format_timestamp_udf(user_log['ts_in_seconds']))\n",
    "user_log = user_log.withColumn('registration_datetime', format_timestamp_udf(user_log['registration_in_seconds']))"
   ]
  },
  {
   "cell_type": "code",
   "execution_count": 29,
   "metadata": {},
   "outputs": [
    {
     "name": "stdout",
     "output_type": "stream",
     "text": [
      "Our data covers from 2018-10-01 00:01:57 to 2018-12-03 01:11:16\n"
     ]
    }
   ],
   "source": [
    "max_date = user_log.where(~col('datetime').isNull()).agg({\"datetime\": \"max\"}).collect()[0][0]\n",
    "min_date = user_log.where(~col('datetime').isNull()).agg({\"datetime\": \"min\"}).collect()[0][0]\n",
    "print('Our data covers from {} to {}'.format(min_date, max_date))"
   ]
  },
  {
   "cell_type": "markdown",
   "metadata": {},
   "source": [
    "### Example of log for onse user (userId == XXX)"
   ]
  },
  {
   "cell_type": "code",
   "execution_count": 30,
   "metadata": {
    "scrolled": false
   },
   "outputs": [],
   "source": [
    "# user_log.where(col('userId') == 101).where(col('sessionId')== 635).\\\n",
    "# select(['sessionId','datetime','page','level','artist','song']).collect()"
   ]
  },
  {
   "cell_type": "markdown",
   "metadata": {},
   "source": [
    "### Let's keep just auth=Logged in and Cancelled\n",
    "\n",
    "This is because all the actions/events we are interested in happens while auth=Logged In, and we define our target as user who have cancelled the service, and they are represented with an entry which has auth=Cancelled"
   ]
  },
  {
   "cell_type": "code",
   "execution_count": 31,
   "metadata": {},
   "outputs": [],
   "source": [
    "user_log = user_log.where(col('auth').isin(['Logged In', 'Cancelled']))"
   ]
  },
  {
   "cell_type": "code",
   "execution_count": 32,
   "metadata": {},
   "outputs": [
    {
     "name": "stdout",
     "output_type": "stream",
     "text": [
      "artist 50046\n",
      "auth 0\n",
      "firstName 0\n",
      "gender 0\n",
      "itemInSession 0\n",
      "lastName 0\n",
      "length 50046\n",
      "level 0\n",
      "location 0\n",
      "method 0\n",
      "page 0\n",
      "registration 0\n",
      "sessionId 0\n",
      "song 50046\n",
      "status 0\n",
      "ts 0\n",
      "userAgent 0\n",
      "userId 0\n",
      "ts_in_seconds 0\n",
      "registration_in_seconds 0\n",
      "datetime 0\n",
      "registration_datetime 0\n"
     ]
    }
   ],
   "source": [
    "for column in user_log.columns:\n",
    "    print(column, user_log.where(col(column).isNull()).count())"
   ]
  },
  {
   "cell_type": "markdown",
   "metadata": {},
   "source": [
    "Nice. Only artist, song, and length are missing; and they happen to be missing at the same time or so it seems. Let's take a look at those columns."
   ]
  },
  {
   "cell_type": "code",
   "execution_count": 33,
   "metadata": {},
   "outputs": [
    {
     "data": {
      "text/plain": [
       "50046"
      ]
     },
     "execution_count": 33,
     "metadata": {},
     "output_type": "execute_result"
    }
   ],
   "source": [
    "user_log.where(col('artist').isNull()|col('length').isNull()|col('song').isNull()).count()"
   ]
  },
  {
   "cell_type": "code",
   "execution_count": 34,
   "metadata": {},
   "outputs": [
    {
     "data": {
      "text/plain": [
       "[Row(artist=None, auth='Logged In', firstName='Brycen', gender='M', itemInSession=7, lastName='Bradley', length=None, level='paid', location='Laurel, MS', method='PUT', page='Thumbs Up', registration=1538159495000, sessionId=9, song=None, status=307, ts=1538966899000, userAgent='\"Mozilla/5.0 (Macintosh; Intel Mac OS X 10_9_4) AppleWebKit/537.36 (KHTML, like Gecko) Chrome/36.0.1985.143 Safari/537.36\"', userId='10', ts_in_seconds=1538966899.0, registration_in_seconds=1538159495.0, datetime='2018-10-08 02:48:19', registration_datetime='2018-09-28 18:31:35'),\n",
       " Row(artist=None, auth='Logged In', firstName='Brycen', gender='M', itemInSession=11, lastName='Bradley', length=None, level='paid', location='Laurel, MS', method='PUT', page='Add Friend', registration=1538159495000, sessionId=9, song=None, status=307, ts=1538967508000, userAgent='\"Mozilla/5.0 (Macintosh; Intel Mac OS X 10_9_4) AppleWebKit/537.36 (KHTML, like Gecko) Chrome/36.0.1985.143 Safari/537.36\"', userId='10', ts_in_seconds=1538967508.0, registration_in_seconds=1538159495.0, datetime='2018-10-08 02:58:28', registration_datetime='2018-09-28 18:31:35'),\n",
       " Row(artist=None, auth='Logged In', firstName='Brycen', gender='M', itemInSession=12, lastName='Bradley', length=None, level='paid', location='Laurel, MS', method='PUT', page='Add Friend', registration=1538159495000, sessionId=9, song=None, status=307, ts=1538967509000, userAgent='\"Mozilla/5.0 (Macintosh; Intel Mac OS X 10_9_4) AppleWebKit/537.36 (KHTML, like Gecko) Chrome/36.0.1985.143 Safari/537.36\"', userId='10', ts_in_seconds=1538967509.0, registration_in_seconds=1538159495.0, datetime='2018-10-08 02:58:29', registration_datetime='2018-09-28 18:31:35'),\n",
       " Row(artist=None, auth='Logged In', firstName='Brycen', gender='M', itemInSession=15, lastName='Bradley', length=None, level='paid', location='Laurel, MS', method='PUT', page='Thumbs Up', registration=1538159495000, sessionId=9, song=None, status=307, ts=1538968111000, userAgent='\"Mozilla/5.0 (Macintosh; Intel Mac OS X 10_9_4) AppleWebKit/537.36 (KHTML, like Gecko) Chrome/36.0.1985.143 Safari/537.36\"', userId='10', ts_in_seconds=1538968111.0, registration_in_seconds=1538159495.0, datetime='2018-10-08 03:08:31', registration_datetime='2018-09-28 18:31:35'),\n",
       " Row(artist=None, auth='Logged In', firstName='Brycen', gender='M', itemInSession=27, lastName='Bradley', length=None, level='paid', location='Laurel, MS', method='PUT', page='Logout', registration=1538159495000, sessionId=9, song=None, status=307, ts=1538970869000, userAgent='\"Mozilla/5.0 (Macintosh; Intel Mac OS X 10_9_4) AppleWebKit/537.36 (KHTML, like Gecko) Chrome/36.0.1985.143 Safari/537.36\"', userId='10', ts_in_seconds=1538970869.0, registration_in_seconds=1538159495.0, datetime='2018-10-08 03:54:29', registration_datetime='2018-09-28 18:31:35')]"
      ]
     },
     "execution_count": 34,
     "metadata": {},
     "output_type": "execute_result"
    }
   ],
   "source": [
    "user_log.where(col('artist').isNull()|col('length').isNull()|col('song').isNull()).take(5)"
   ]
  },
  {
   "cell_type": "markdown",
   "metadata": {},
   "source": [
    "### When there is no info for a song or artist is because the event/page is different from 'NextSong'"
   ]
  },
  {
   "cell_type": "markdown",
   "metadata": {},
   "source": [
    "# Exploratory Data Analysis\n",
    "When you're working with the full dataset, perform EDA by loading a small subset of the data and doing basic manipulations within Spark. In this workspace, you are already provided a small subset of data you can explore.\n",
    "\n",
    "### Define Churn\n",
    "\n",
    "Once you've done some preliminary analysis, create a column `Churn` to use as the label for your model. I suggest using the `Cancellation Confirmation` events to define your churn, which happen for both paid and free users. As a bonus task, you can also look into the `Downgrade` events.\n",
    "\n",
    "### Explore Data\n",
    "Once you've defined churn, perform some exploratory data analysis to observe the behavior for users who stayed vs users who churned. You can start by exploring aggregates on these two groups of users, observing how much of a specific action they experienced per a certain time unit or number of songs played."
   ]
  },
  {
   "cell_type": "markdown",
   "metadata": {},
   "source": [
    "### Comment: So we did most of our cleaning and exploratory work before, so for now we will just focus on defining churn, further explore some features, and create an aggregated dataset to be used in the modelling step"
   ]
  },
  {
   "cell_type": "code",
   "execution_count": 35,
   "metadata": {},
   "outputs": [],
   "source": [
    "user_log = user_log.withColumn('date', col('datetime').cast('date'))\n",
    "user_log = user_log.withColumn('registration_date', col('registration_datetime').cast('date'))"
   ]
  },
  {
   "cell_type": "code",
   "execution_count": 36,
   "metadata": {},
   "outputs": [
    {
     "name": "stdout",
     "output_type": "stream",
     "text": [
      "root\n",
      " |-- artist: string (nullable = true)\n",
      " |-- auth: string (nullable = true)\n",
      " |-- firstName: string (nullable = true)\n",
      " |-- gender: string (nullable = true)\n",
      " |-- itemInSession: long (nullable = true)\n",
      " |-- lastName: string (nullable = true)\n",
      " |-- length: double (nullable = true)\n",
      " |-- level: string (nullable = true)\n",
      " |-- location: string (nullable = true)\n",
      " |-- method: string (nullable = true)\n",
      " |-- page: string (nullable = true)\n",
      " |-- registration: long (nullable = true)\n",
      " |-- sessionId: long (nullable = true)\n",
      " |-- song: string (nullable = true)\n",
      " |-- status: long (nullable = true)\n",
      " |-- ts: long (nullable = true)\n",
      " |-- userAgent: string (nullable = true)\n",
      " |-- userId: string (nullable = true)\n",
      " |-- ts_in_seconds: double (nullable = true)\n",
      " |-- registration_in_seconds: double (nullable = true)\n",
      " |-- datetime: string (nullable = true)\n",
      " |-- registration_datetime: string (nullable = true)\n",
      " |-- date: date (nullable = true)\n",
      " |-- registration_date: date (nullable = true)\n",
      "\n"
     ]
    }
   ],
   "source": [
    "user_log.printSchema()"
   ]
  },
  {
   "cell_type": "code",
   "execution_count": 37,
   "metadata": {},
   "outputs": [],
   "source": [
    "has_churned = udf(lambda val: int(val == 'Cancellation Confirmation'), IntegerType())\n",
    "user_log = user_log.withColumn(\"churn\", has_churned(\"page\"))"
   ]
  },
  {
   "cell_type": "code",
   "execution_count": 38,
   "metadata": {},
   "outputs": [],
   "source": [
    "df = user_log.groupby(['userId']).agg({\"churn\": \"sum\"})\\\n",
    ".orderBy('sum(churn)', ascending=False).toPandas().rename(columns={'sum(churn)':'has_churned'})"
   ]
  },
  {
   "cell_type": "markdown",
   "metadata": {},
   "source": [
    "### Seems that 23% of our users have churned. That's bad for business, but great for us. this is not an unbalanced problem, which tipically are hard to deal with."
   ]
  },
  {
   "cell_type": "code",
   "execution_count": 39,
   "metadata": {},
   "outputs": [
    {
     "name": "stdout",
     "output_type": "stream",
     "text": [
      "Percentage of each class\n"
     ]
    },
    {
     "data": {
      "text/plain": [
       "0    0.768889\n",
       "1    0.231111\n",
       "Name: has_churned, dtype: float64"
      ]
     },
     "execution_count": 39,
     "metadata": {},
     "output_type": "execute_result"
    }
   ],
   "source": [
    "print('Percentage of each class')\n",
    "df['has_churned'].value_counts()/df.shape[0]"
   ]
  },
  {
   "cell_type": "code",
   "execution_count": 40,
   "metadata": {},
   "outputs": [
    {
     "data": {
      "text/html": [
       "<div>\n",
       "<style scoped>\n",
       "    .dataframe tbody tr th:only-of-type {\n",
       "        vertical-align: middle;\n",
       "    }\n",
       "\n",
       "    .dataframe tbody tr th {\n",
       "        vertical-align: top;\n",
       "    }\n",
       "\n",
       "    .dataframe thead th {\n",
       "        text-align: right;\n",
       "    }\n",
       "</style>\n",
       "<table border=\"1\" class=\"dataframe\">\n",
       "  <thead>\n",
       "    <tr style=\"text-align: right;\">\n",
       "      <th></th>\n",
       "      <th>userId</th>\n",
       "      <th>has_churned</th>\n",
       "    </tr>\n",
       "  </thead>\n",
       "  <tbody>\n",
       "    <tr>\n",
       "      <th>0</th>\n",
       "      <td>125</td>\n",
       "      <td>1</td>\n",
       "    </tr>\n",
       "    <tr>\n",
       "      <th>1</th>\n",
       "      <td>51</td>\n",
       "      <td>1</td>\n",
       "    </tr>\n",
       "    <tr>\n",
       "      <th>2</th>\n",
       "      <td>54</td>\n",
       "      <td>1</td>\n",
       "    </tr>\n",
       "    <tr>\n",
       "      <th>3</th>\n",
       "      <td>100014</td>\n",
       "      <td>1</td>\n",
       "    </tr>\n",
       "    <tr>\n",
       "      <th>4</th>\n",
       "      <td>101</td>\n",
       "      <td>1</td>\n",
       "    </tr>\n",
       "  </tbody>\n",
       "</table>\n",
       "</div>"
      ],
      "text/plain": [
       "   userId  has_churned\n",
       "0     125            1\n",
       "1      51            1\n",
       "2      54            1\n",
       "3  100014            1\n",
       "4     101            1"
      ]
     },
     "execution_count": 40,
     "metadata": {},
     "output_type": "execute_result"
    }
   ],
   "source": [
    "df.head()"
   ]
  },
  {
   "cell_type": "code",
   "execution_count": 41,
   "metadata": {},
   "outputs": [],
   "source": [
    "# we get the UserIDs that have churned at any point in the period covered by our dataset\n",
    "churn_ids = df.loc[df['has_churned']==1, 'userId'].values\n",
    "no_churn_ids = df.loc[df['has_churned']==0, 'userId'].values"
   ]
  },
  {
   "cell_type": "markdown",
   "metadata": {},
   "source": [
    "### Let's compare users who have churned to those who have not"
   ]
  },
  {
   "cell_type": "markdown",
   "metadata": {},
   "source": [
    "### by length of songs"
   ]
  },
  {
   "cell_type": "code",
   "execution_count": 42,
   "metadata": {},
   "outputs": [],
   "source": [
    "user_churn = user_log.where(col('userId').isin(list(churn_ids)))\n",
    "user_active = user_log.where(col('userId').isin(list(no_churn_ids)))"
   ]
  },
  {
   "cell_type": "code",
   "execution_count": 43,
   "metadata": {},
   "outputs": [
    {
     "name": "stdout",
     "output_type": "stream",
     "text": [
      "Number of rows in dataframe with users who churned: 44864\n",
      "Number of rows in dataframe with users who have not churned: 233290\n"
     ]
    }
   ],
   "source": [
    "print('Number of rows in dataframe with users who churned: {}'.format(user_churn.count()))\n",
    "print('Number of rows in dataframe with users who have not churned: {}'.format(user_active.count()))"
   ]
  },
  {
   "cell_type": "code",
   "execution_count": 44,
   "metadata": {},
   "outputs": [
    {
     "data": {
      "text/plain": [
       "Text(0.5,1,'Song Length for Active Users')"
      ]
     },
     "execution_count": 44,
     "metadata": {},
     "output_type": "execute_result"
    },
    {
     "data": {
      "image/png": "[encoded data removed]",
      "text/plain": [
       "<matplotlib.figure.Figure at 0x7f13556b1438>"
      ]
     },
     "metadata": {
      "needs_background": "light"
     },
     "output_type": "display_data"
    }
   ],
   "source": [
    "churn_length = user_churn.where(col('length') <= 600).select('length').toPandas()\n",
    "churn_length['length'].hist(bins=20)\n",
    "plt.axvline(x=user_churn.agg({\"length\": \"mean\"}).collect()[0][0], color='black')\n",
    "plt.title('Song Length for Active Users')"
   ]
  },
  {
   "cell_type": "code",
   "execution_count": 45,
   "metadata": {},
   "outputs": [
    {
     "data": {
      "text/plain": [
       "Text(0.5,1,'Song Length for Churn Users')"
      ]
     },
     "execution_count": 45,
     "metadata": {},
     "output_type": "execute_result"
    },
    {
     "data": {
      "image/png": "[encoded data removed]",
      "text/plain": [
       "<matplotlib.figure.Figure at 0x7f13197ad908>"
      ]
     },
     "metadata": {
      "needs_background": "light"
     },
     "output_type": "display_data"
    }
   ],
   "source": [
    "active_length = user_active.where(col('length') <= 600).select('length').toPandas()\n",
    "active_length['length'].hist(bins=20)\n",
    "plt.axvline(x=user_active.agg({\"length\": \"mean\"}).collect()[0][0], color='black')\n",
    "plt.title('Song Length for Churn Users')"
   ]
  },
  {
   "cell_type": "code",
   "execution_count": 46,
   "metadata": {},
   "outputs": [
    {
     "data": {
      "text/plain": [
       "<matplotlib.legend.Legend at 0x7f131b0abf98>"
      ]
     },
     "execution_count": 46,
     "metadata": {},
     "output_type": "execute_result"
    },
    {
     "data": {
      "image/png": "[encoded data removed]",
      "text/plain": [
       "<matplotlib.figure.Figure at 0x7f131b41f358>"
      ]
     },
     "metadata": {
      "needs_background": "light"
     },
     "output_type": "display_data"
    }
   ],
   "source": [
    "sns.distplot(active_length['length'],  norm_hist=True, kde=False, label='Active')\n",
    "sns.distplot(churn_length['length'],  norm_hist=True, kde=False, label='churn')\n",
    "plt.legend()"
   ]
  },
  {
   "cell_type": "markdown",
   "metadata": {},
   "source": [
    "Virtually the **same** distribution of song length."
   ]
  },
  {
   "cell_type": "markdown",
   "metadata": {},
   "source": [
    "### Let's compare distribution of items in session"
   ]
  },
  {
   "cell_type": "code",
   "execution_count": 47,
   "metadata": {},
   "outputs": [
    {
     "data": {
      "text/plain": [
       "<matplotlib.legend.Legend at 0x7f1319bf0be0>"
      ]
     },
     "execution_count": 47,
     "metadata": {},
     "output_type": "execute_result"
    },
    {
     "data": {
      "image/png": "[encoded data removed]",
      "text/plain": [
       "<matplotlib.figure.Figure at 0x7f131bc73668>"
      ]
     },
     "metadata": {
      "needs_background": "light"
     },
     "output_type": "display_data"
    }
   ],
   "source": [
    "sns.distplot(user_active.select('itemInSession').toPandas()['itemInSession'],  kde=False, norm_hist=True, label='Active')\n",
    "sns.distplot(user_churn.select('itemInSession').toPandas()['itemInSession'],  kde=False, norm_hist=True, label='churn')\n",
    "plt.legend()"
   ]
  },
  {
   "cell_type": "markdown",
   "metadata": {},
   "source": [
    "### Number of distinct sessions (normalized by... number of days?)"
   ]
  },
  {
   "cell_type": "code",
   "execution_count": 48,
   "metadata": {},
   "outputs": [],
   "source": [
    "user_sessions = user_log.groupby('userId').\\\n",
    "agg(countDistinct('sessionId').alias('sessions'), datediff(max('date'), min('date')).alias('days')).\\\n",
    "withColumn('sessions_per_day', col('sessions')/col('days'))"
   ]
  },
  {
   "cell_type": "code",
   "execution_count": 49,
   "metadata": {},
   "outputs": [],
   "source": [
    "session_churn = user_sessions.where(col('userId').isin(list(churn_ids))).where(~col('sessions_per_day').isNull()).toPandas()\n",
    "session_active = user_sessions.where(col('userId').isin(list(no_churn_ids))).where(~col('sessions_per_day').isNull()).toPandas()"
   ]
  },
  {
   "cell_type": "code",
   "execution_count": 50,
   "metadata": {},
   "outputs": [
    {
     "data": {
      "text/plain": [
       "<matplotlib.legend.Legend at 0x7f131b3c4828>"
      ]
     },
     "execution_count": 50,
     "metadata": {},
     "output_type": "execute_result"
    },
    {
     "data": {
      "image/png": "[encoded data removed]",
      "text/plain": [
       "<matplotlib.figure.Figure at 0x7f13167fe2b0>"
      ]
     },
     "metadata": {
      "needs_background": "light"
     },
     "output_type": "display_data"
    }
   ],
   "source": [
    "sns.distplot(session_active['sessions_per_day'],  norm_hist=True, kde=False, label='Active')\n",
    "sns.distplot(session_churn['sessions_per_day'],  norm_hist=True, kde=False, label='churn')\n",
    "plt.legend()"
   ]
  },
  {
   "cell_type": "markdown",
   "metadata": {},
   "source": [
    "Here we do see some differences"
   ]
  },
  {
   "cell_type": "markdown",
   "metadata": {},
   "source": [
    "### Number of songs played by session?"
   ]
  },
  {
   "cell_type": "code",
   "execution_count": 51,
   "metadata": {},
   "outputs": [],
   "source": [
    "songs_session = user_log.where(col('page')=='NextSong').groupby('userId','sessionId').count()"
   ]
  },
  {
   "cell_type": "code",
   "execution_count": 52,
   "metadata": {},
   "outputs": [
    {
     "name": "stdout",
     "output_type": "stream",
     "text": [
      "root\n",
      " |-- userId: string (nullable = true)\n",
      " |-- sessionId: long (nullable = true)\n",
      " |-- count: long (nullable = false)\n",
      "\n"
     ]
    }
   ],
   "source": [
    "songs_session.printSchema()"
   ]
  },
  {
   "cell_type": "code",
   "execution_count": 53,
   "metadata": {},
   "outputs": [],
   "source": [
    "songs_churn = songs_session.where(col('userId').isin(list(churn_ids))).toPandas()\n",
    "songs_active = songs_session.where(col('userId').isin(list(no_churn_ids))).toPandas()"
   ]
  },
  {
   "cell_type": "code",
   "execution_count": 54,
   "metadata": {},
   "outputs": [
    {
     "data": {
      "text/plain": [
       "70.123314065510598"
      ]
     },
     "execution_count": 54,
     "metadata": {},
     "output_type": "execute_result"
    }
   ],
   "source": [
    "songs_churn['count'].mean()"
   ]
  },
  {
   "cell_type": "code",
   "execution_count": 55,
   "metadata": {},
   "outputs": [
    {
     "data": {
      "text/plain": [
       "75.123040752351102"
      ]
     },
     "execution_count": 55,
     "metadata": {},
     "output_type": "execute_result"
    }
   ],
   "source": [
    "songs_active['count'].mean()"
   ]
  },
  {
   "cell_type": "code",
   "execution_count": 56,
   "metadata": {},
   "outputs": [
    {
     "data": {
      "text/plain": [
       "<matplotlib.legend.Legend at 0x7f1319d65518>"
      ]
     },
     "execution_count": 56,
     "metadata": {},
     "output_type": "execute_result"
    },
    {
     "data": {
      "image/png": "[encoded data removed]",
      "text/plain": [
       "<matplotlib.figure.Figure at 0x7f131b8ca7b8>"
      ]
     },
     "metadata": {
      "needs_background": "light"
     },
     "output_type": "display_data"
    }
   ],
   "source": [
    "sns.distplot(songs_churn['count'],  norm_hist=True, kde=False, label='Active')\n",
    "sns.distplot(songs_active['count'],  norm_hist=True, kde=False, label='churn')\n",
    "plt.legend()"
   ]
  },
  {
   "cell_type": "markdown",
   "metadata": {},
   "source": [
    "### We have not identifies any really interesting feature so far. By interesting we mean that are clearly differetn between the classes (churned and not churned). We will then create new features just based on what we think might be predictor of churning, even if we do not have any evidence yet."
   ]
  },
  {
   "cell_type": "code",
   "execution_count": 57,
   "metadata": {},
   "outputs": [],
   "source": [
    "# function = udf(lambda ishome : int(ishome == 'Home'), IntegerType())\n",
    "\n",
    "# user_window = Window \\\n",
    "#     .partitionBy('userID') \\\n",
    "#     .orderBy(desc('ts')) \\\n",
    "#     .rangeBetween(Window.unboundedPreceding, 0)\n",
    "\n",
    "# cusum = df.filter((df.page == 'NextSong') | (df.page == 'Home')) \\\n",
    "#     .select('userID', 'page', 'ts') \\\n",
    "#     .withColumn('homevisit', function(col('page'))) \\\n",
    "#     .withColumn('period', Fsum('homevisit').over(user_window))\n",
    "\n",
    "# cusum.filter((cusum.page == 'NextSong')) \\\n",
    "#     .groupBy('userID', 'period') \\\n",
    "#     .agg({'period':'count'}) \\\n",
    "#     .agg({'count(period)':'avg'}).show()\n"
   ]
  },
  {
   "cell_type": "markdown",
   "metadata": {},
   "source": [
    "# Feature Engineering\n",
    "Once you've familiarized yourself with the data, build out the features you find promising to train your model on. To work with the full dataset, you can follow the following steps.\n",
    "- Write a script to extract the necessary features from the smaller subset of data\n",
    "- Ensure that your script is scalable, using the best practices discussed in Lesson 3\n",
    "- Try your script on the full data set, debugging your script if necessary\n",
    "\n",
    "If you are working in the classroom workspace, you can just extract features based on the small subset of data contained here. Be sure to transfer over this work to the larger dataset when you work on your Spark cluster."
   ]
  },
  {
   "cell_type": "code",
   "execution_count": 58,
   "metadata": {},
   "outputs": [],
   "source": [
    "# we create a list of dataframes with the structure userId, feature, and we will join them at the end using reduce.\n",
    "listDf = []"
   ]
  },
  {
   "cell_type": "markdown",
   "metadata": {},
   "source": [
    "### Feature 1: Target, churn"
   ]
  },
  {
   "cell_type": "markdown",
   "metadata": {},
   "source": [
    "This feature has already been created!"
   ]
  },
  {
   "cell_type": "code",
   "execution_count": 59,
   "metadata": {},
   "outputs": [],
   "source": [
    "map_user_churn = user_log.groupby(['userId']).agg({\"churn\": \"sum\"}).withColumn('churn',col('sum(churn)')).\\\n",
    "select(['userId','churn'])\n",
    "listDf.append(map_user_churn)"
   ]
  },
  {
   "cell_type": "code",
   "execution_count": 60,
   "metadata": {},
   "outputs": [
    {
     "data": {
      "text/plain": [
       "DataFrame[userId: string, churn: bigint]"
      ]
     },
     "execution_count": 60,
     "metadata": {},
     "output_type": "execute_result"
    }
   ],
   "source": [
    "map_user_churn"
   ]
  },
  {
   "cell_type": "markdown",
   "metadata": {},
   "source": [
    "### Feature 2: Predictor, Number of times the user has downgraded"
   ]
  },
  {
   "cell_type": "code",
   "execution_count": 61,
   "metadata": {},
   "outputs": [],
   "source": [
    "flag_downgrade_event = udf(lambda x: 1 if x == \"Submit Downgrade\" else 0, IntegerType())"
   ]
  },
  {
   "cell_type": "code",
   "execution_count": 62,
   "metadata": {},
   "outputs": [],
   "source": [
    "user_log = user_log.withColumn('downgraded', flag_downgrade_event('page'))"
   ]
  },
  {
   "cell_type": "code",
   "execution_count": 63,
   "metadata": {},
   "outputs": [
    {
     "data": {
      "text/plain": [
       "DataFrame[userId: string, number_downgrades: bigint]"
      ]
     },
     "execution_count": 63,
     "metadata": {},
     "output_type": "execute_result"
    }
   ],
   "source": [
    "map_user_downgrades = user_log.groupby('userId').agg({'downgraded':'sum'}).\\\n",
    "withColumn('number_downgrades',col('sum(downgraded)')).select(['userId','number_downgrades'])\n",
    "map_user_downgrades"
   ]
  },
  {
   "cell_type": "code",
   "execution_count": 64,
   "metadata": {},
   "outputs": [],
   "source": [
    "listDf.append(map_user_downgrades)"
   ]
  },
  {
   "cell_type": "markdown",
   "metadata": {},
   "source": [
    "### Feature 3: Predictor, Mean Number of songs played in a session"
   ]
  },
  {
   "cell_type": "code",
   "execution_count": 65,
   "metadata": {},
   "outputs": [],
   "source": [
    "map_songs_session = user_log.where(col('page')=='NextSong').groupby('userId','sessionId').count()\n",
    "map_songs_session = map_songs_session.groupby('userId').agg(avg('count').alias('number_songs'))"
   ]
  },
  {
   "cell_type": "code",
   "execution_count": 66,
   "metadata": {},
   "outputs": [],
   "source": [
    "listDf.append(map_songs_session)"
   ]
  },
  {
   "cell_type": "code",
   "execution_count": 67,
   "metadata": {},
   "outputs": [],
   "source": [
    "# map_songs_session.orderBy('number_songs').collect()"
   ]
  },
  {
   "cell_type": "markdown",
   "metadata": {},
   "source": [
    "### Feature 4: Sessions per day"
   ]
  },
  {
   "cell_type": "code",
   "execution_count": 68,
   "metadata": {},
   "outputs": [],
   "source": [
    "# corrected_date_diff = udf(lambda x: datediff(max(x), min(x)), IntegerType())\n",
    "map_sessions_day = user_log.groupby('userId').agg(countDistinct('sessionId').alias('sessions'), datediff(max('date'), min('date')).alias('days'))\\\n",
    ".withColumn('sessions_per_day', col('sessions')/(col('days')+1))\\\n",
    ".select(['userId','sessions_per_day'])\n",
    "\n",
    "listDf.append(map_sessions_day)"
   ]
  },
  {
   "cell_type": "code",
   "execution_count": 69,
   "metadata": {},
   "outputs": [
    {
     "data": {
      "text/plain": [
       "DataFrame[userId: string, sessions_per_day: double]"
      ]
     },
     "execution_count": 69,
     "metadata": {},
     "output_type": "execute_result"
    }
   ],
   "source": [
    "map_sessions_day"
   ]
  },
  {
   "cell_type": "markdown",
   "metadata": {},
   "source": [
    "### Feature 5: Time since registration"
   ]
  },
  {
   "cell_type": "code",
   "execution_count": 70,
   "metadata": {},
   "outputs": [],
   "source": [
    "map_since_registration = user_log.groupby('userId').agg(datediff(max('date'), min('registration_date')).alias('since_registration'))"
   ]
  },
  {
   "cell_type": "code",
   "execution_count": 71,
   "metadata": {},
   "outputs": [
    {
     "data": {
      "text/plain": [
       "DataFrame[userId: string, since_registration: int]"
      ]
     },
     "execution_count": 71,
     "metadata": {},
     "output_type": "execute_result"
    }
   ],
   "source": [
    "map_since_registration"
   ]
  },
  {
   "cell_type": "code",
   "execution_count": 72,
   "metadata": {},
   "outputs": [],
   "source": [
    "listDf.append(map_since_registration)"
   ]
  },
  {
   "cell_type": "markdown",
   "metadata": {},
   "source": [
    "### Feature 6: Number of thums up and down - as a difference"
   ]
  },
  {
   "cell_type": "code",
   "execution_count": 73,
   "metadata": {},
   "outputs": [
    {
     "name": "stdout",
     "output_type": "stream",
     "text": [
      "+-------+------------------+-----------------+\n",
      "|summary|            userID|        thumbs_up|\n",
      "+-------+------------------+-----------------+\n",
      "|  count|               220|              220|\n",
      "|   mean| 66420.27727272727|            57.05|\n",
      "| stddev|106196.51156121881|65.67028650524044|\n",
      "|    min|                10|                1|\n",
      "|    max|                99|              437|\n",
      "+-------+------------------+-----------------+\n",
      "\n"
     ]
    }
   ],
   "source": [
    "# difference  of Thumbs-Up/Down\n",
    "map_thumbs_up = user_log.select('userID','page').where(user_log.page == 'Thumbs Up').groupBy('userID').count().\\\n",
    "withColumnRenamed('count', 'thumbs_up') \n",
    "map_thumbs_up.describe().show()"
   ]
  },
  {
   "cell_type": "code",
   "execution_count": 74,
   "metadata": {},
   "outputs": [
    {
     "name": "stdout",
     "output_type": "stream",
     "text": [
      "+-------+------------------+------------------+\n",
      "|summary|            userID|       thumbs_down|\n",
      "+-------+------------------+------------------+\n",
      "|  count|               203|               203|\n",
      "|   mean| 66066.16256157635|12.541871921182265|\n",
      "| stddev|106108.32569893777|13.198108566983787|\n",
      "|    min|                10|                 1|\n",
      "|    max|                99|                75|\n",
      "+-------+------------------+------------------+\n",
      "\n"
     ]
    }
   ],
   "source": [
    "map_thumbs_down = user_log.select('userID','page').where(user_log.page == 'Thumbs Down').groupBy('userID')\\\n",
    ".count().withColumnRenamed('count', 'thumbs_down') \n",
    "map_thumbs_down.describe().show()"
   ]
  },
  {
   "cell_type": "code",
   "execution_count": 75,
   "metadata": {},
   "outputs": [],
   "source": [
    "map_likeness = map_thumbs_up.join(map_thumbs_down, on='userId')\n",
    "map_likeness = map_likeness.withColumn('likeness', map_likeness.thumbs_up - map_likeness.thumbs_down)\\\n",
    ".select(['userId', 'likeness'])"
   ]
  },
  {
   "cell_type": "code",
   "execution_count": 76,
   "metadata": {},
   "outputs": [],
   "source": [
    "listDf.append(map_likeness)"
   ]
  },
  {
   "cell_type": "markdown",
   "metadata": {},
   "source": [
    "### Feature 7: Number of songs added to playlists"
   ]
  },
  {
   "cell_type": "code",
   "execution_count": 77,
   "metadata": {},
   "outputs": [],
   "source": [
    "# Number of songs added to playlist\n",
    "map_added_playlist = user_log.select('userID','page').where(user_log.page == 'Add to Playlist').\\\n",
    "groupBy('userID').count().withColumnRenamed('count', 'add_to_playlist')"
   ]
  },
  {
   "cell_type": "code",
   "execution_count": 78,
   "metadata": {},
   "outputs": [
    {
     "name": "stdout",
     "output_type": "stream",
     "text": [
      "+-------+------------------+-----------------+\n",
      "|summary|            userID|  add_to_playlist|\n",
      "+-------+------------------+-----------------+\n",
      "|  count|               215|              215|\n",
      "|   mean| 66103.63720930232|30.35348837209302|\n",
      "| stddev|106360.47999565038| 32.8520568555997|\n",
      "|    min|                10|                1|\n",
      "|    max|                99|              240|\n",
      "+-------+------------------+-----------------+\n",
      "\n"
     ]
    }
   ],
   "source": [
    "map_added_playlist.describe().show()"
   ]
  },
  {
   "cell_type": "code",
   "execution_count": 79,
   "metadata": {},
   "outputs": [],
   "source": [
    "listDf.append(map_added_playlist)"
   ]
  },
  {
   "cell_type": "markdown",
   "metadata": {},
   "source": [
    "### Feature 8: predictor, Gender"
   ]
  },
  {
   "cell_type": "code",
   "execution_count": 80,
   "metadata": {},
   "outputs": [],
   "source": [
    "flag_gender = udf(lambda x: 1 if x == \"M\" else 0, IntegerType())\n",
    "\n",
    "user_log = user_log.withColumn('gender_coded', flag_gender('gender'))\n",
    "map_user_gender = user_log.groupby('userId').agg(max('gender_coded').alias('gender'))"
   ]
  },
  {
   "cell_type": "code",
   "execution_count": 81,
   "metadata": {},
   "outputs": [
    {
     "data": {
      "text/plain": [
       "DataFrame[userId: string, gender: int]"
      ]
     },
     "execution_count": 81,
     "metadata": {},
     "output_type": "execute_result"
    }
   ],
   "source": [
    "map_user_gender"
   ]
  },
  {
   "cell_type": "code",
   "execution_count": 82,
   "metadata": {},
   "outputs": [],
   "source": [
    "# # apart from groupby, you can also process by windows of rows\n",
    "# windowval = Window.partitionBy(\"userId\").orderBy(desc(\"ts\")).rangeBetween(Window.unboundedPreceding, 0)\n",
    "# user_log_valid = user_log_valid.withColumn(\"phase\", Fsum(\"downgraded\").over(windowval))\n",
    "# user_log_valid.select([\"userId\", \"firstname\", \"ts\", \"page\", \"level\", \"phase\"]).where(user_log.userId == \"1138\").sort(\"ts\").collect()"
   ]
  },
  {
   "cell_type": "code",
   "execution_count": 83,
   "metadata": {},
   "outputs": [],
   "source": [
    "listDf.append(map_user_gender)"
   ]
  },
  {
   "cell_type": "markdown",
   "metadata": {},
   "source": [
    "### At last, bring all together and create a dataframe where each row is a user, and the columns the engineered features"
   ]
  },
  {
   "cell_type": "code",
   "execution_count": 84,
   "metadata": {},
   "outputs": [
    {
     "data": {
      "text/plain": [
       "[DataFrame[userId: string, churn: bigint],\n",
       " DataFrame[userId: string, number_downgrades: bigint],\n",
       " DataFrame[userId: string, number_songs: double],\n",
       " DataFrame[userId: string, sessions_per_day: double],\n",
       " DataFrame[userId: string, since_registration: int],\n",
       " DataFrame[userId: string, likeness: bigint],\n",
       " DataFrame[userID: string, add_to_playlist: bigint],\n",
       " DataFrame[userId: string, gender: int]]"
      ]
     },
     "execution_count": 84,
     "metadata": {},
     "output_type": "execute_result"
    }
   ],
   "source": [
    "listDf"
   ]
  },
  {
   "cell_type": "code",
   "execution_count": 85,
   "metadata": {},
   "outputs": [],
   "source": [
    "df_res = listDf[0]\n",
    "for df_next in listDf[1:]:\n",
    "    df_res = df_res.join(df_next,on='userId',how='inner')\n",
    "df_res = df_res.fillna(0)"
   ]
  },
  {
   "cell_type": "code",
   "execution_count": 86,
   "metadata": {},
   "outputs": [
    {
     "name": "stdout",
     "output_type": "stream",
     "text": [
      "root\n",
      " |-- userId: string (nullable = true)\n",
      " |-- churn: long (nullable = true)\n",
      " |-- number_downgrades: long (nullable = true)\n",
      " |-- number_songs: double (nullable = false)\n",
      " |-- sessions_per_day: double (nullable = false)\n",
      " |-- since_registration: integer (nullable = true)\n",
      " |-- likeness: long (nullable = false)\n",
      " |-- add_to_playlist: long (nullable = false)\n",
      " |-- gender: integer (nullable = true)\n",
      "\n"
     ]
    }
   ],
   "source": [
    "df_res.printSchema()"
   ]
  },
  {
   "cell_type": "code",
   "execution_count": 87,
   "metadata": {},
   "outputs": [
    {
     "data": {
      "text/plain": [
       "200"
      ]
     },
     "execution_count": 87,
     "metadata": {},
     "output_type": "execute_result"
    }
   ],
   "source": [
    "df_res.count()"
   ]
  },
  {
   "cell_type": "markdown",
   "metadata": {},
   "source": [
    "# Modeling\n",
    "Split the full dataset into train, test, and validation sets. Test out several of the machine learning methods you learned. Evaluate the accuracy of the various models, tuning parameters as necessary. Determine your winning model based on test accuracy and report results on the validation set. Since the churned users are a fairly small subset, I suggest using F1 score as the metric to optimize."
   ]
  },
  {
   "cell_type": "markdown",
   "metadata": {},
   "source": [
    "[Differences between pyspark ML and MLLIB](https://intellipaat.com/community/9624/whats-the-difference-between-spark-ml-and-mllib-packages): We will be using pyspark.mllib package, as it is the most recent API. pyspark.mllib is the old one, built on top of RDD."
   ]
  },
  {
   "cell_type": "markdown",
   "metadata": {},
   "source": [
    "df_res is out dataframe containing the target (churn) and the engineered features. We will convert the features to a vector using \n",
    "\n",
    "assembler = VectorAssembler(inputCols=[\"DescLength\"], outputCol=\"DescVec\")\n",
    "\n",
    "and then model a simple linearreg on top of that."
   ]
  },
  {
   "cell_type": "code",
   "execution_count": 88,
   "metadata": {},
   "outputs": [],
   "source": [
    "# ML PIPELINES\n",
    "from pyspark.ml.classification import LogisticRegression\n",
    "from pyspark.ml import Pipeline\n",
    "from pyspark.ml.tuning import CrossValidator, ParamGridBuilder\n",
    "from pyspark.ml.evaluation import BinaryClassificationEvaluator, MulticlassClassificationEvaluator\n",
    "from pyspark.ml.feature import OneHotEncoderEstimator, StringIndexer, VectorAssembler"
   ]
  },
  {
   "cell_type": "markdown",
   "metadata": {},
   "source": [
    "### Create Vector Asesembler"
   ]
  },
  {
   "cell_type": "code",
   "execution_count": 89,
   "metadata": {},
   "outputs": [
    {
     "data": {
      "text/plain": [
       "['number_downgrades',\n",
       " 'number_songs',\n",
       " 'sessions_per_day',\n",
       " 'since_registration',\n",
       " 'likeness',\n",
       " 'add_to_playlist',\n",
       " 'gender']"
      ]
     },
     "execution_count": 89,
     "metadata": {},
     "output_type": "execute_result"
    }
   ],
   "source": [
    "features = [col for col in df_res.columns if col not in ['userId','churn']]\n",
    "features"
   ]
  },
  {
   "cell_type": "code",
   "execution_count": 90,
   "metadata": {},
   "outputs": [],
   "source": [
    "assembler = VectorAssembler(inputCols=features, outputCol=\"featureVec\")\n",
    "df_res = assembler.transform(df_res)"
   ]
  },
  {
   "cell_type": "code",
   "execution_count": 91,
   "metadata": {},
   "outputs": [],
   "source": [
    "# # standard scaler\n",
    "# scaler = StandardScaler(inputCol=\"featureVec\", outputCol=\"scaledFeatureVec\", withStd=True)\n",
    "# scalerModel = scaler.fit(df)\n",
    "# data = scalerModel.transform(data)"
   ]
  },
  {
   "cell_type": "code",
   "execution_count": 92,
   "metadata": {},
   "outputs": [],
   "source": [
    "# #create dataset only with features and label\n",
    "# data = df.select(col(\"churn\").alias(\"label\"), col(\"featureVec\").alias(\"features\"))\n",
    "# data.head()"
   ]
  },
  {
   "cell_type": "markdown",
   "metadata": {},
   "source": [
    "### Select label and feature columns"
   ]
  },
  {
   "cell_type": "code",
   "execution_count": 93,
   "metadata": {
    "scrolled": false
   },
   "outputs": [
    {
     "data": {
      "text/plain": [
       "Row(label=0, features=DenseVector([0.0, 39.2857, 0.1556, 55.0, 12.0, 7.0, 0.0]))"
      ]
     },
     "execution_count": 93,
     "metadata": {},
     "output_type": "execute_result"
    }
   ],
   "source": [
    "data = df_res.select(col(\"churn\").alias(\"label\"), col(\"featureVec\").alias(\"features\"))\n",
    "data.head()"
   ]
  },
  {
   "cell_type": "markdown",
   "metadata": {},
   "source": [
    "### Split into train and test set"
   ]
  },
  {
   "cell_type": "code",
   "execution_count": 94,
   "metadata": {},
   "outputs": [],
   "source": [
    "# MODEL SELECTION AND TUNING\n",
    "# split dataset into train and test\n",
    "train, test = data.randomSplit([0.8, 0.2], seed=42)"
   ]
  },
  {
   "cell_type": "markdown",
   "metadata": {},
   "source": [
    "## Logistic Regression"
   ]
  },
  {
   "cell_type": "markdown",
   "metadata": {},
   "source": [
    "### Train "
   ]
  },
  {
   "cell_type": "code",
   "execution_count": 95,
   "metadata": {},
   "outputs": [],
   "source": [
    "# # initialize classifier\n",
    "# lr = LogisticRegression(maxIter=10)\n",
    "\n",
    "# # set evaluator\n",
    "# f1_evaluator = MulticlassClassificationEvaluator(metricName='f1')\n",
    "\n",
    "# # build paramGrid\n",
    "# paramGrid = ParamGridBuilder().addGrid(lr.maxIter,[10, 100, 200]) \\\n",
    "#     .build()\n",
    "\n",
    "# crossval_lr = CrossValidator(estimator=lr,\n",
    "#                           evaluator=f1_evaluator, \n",
    "#                           estimatorParamMaps=paramGrid,\n",
    "#                           numFolds=3)"
   ]
  },
  {
   "cell_type": "code",
   "execution_count": 96,
   "metadata": {},
   "outputs": [],
   "source": [
    "# paramGrid = ParamGridBuilder().addGrid(lr.maxIter,[10, 100, 200]).build()\n",
    "\n",
    "# crossval = CrossValidator(estimator=pipeline,\n",
    "#                           estimatorParamMaps=paramGrid,\n",
    "#                           evaluator=BinaryClassificationEvaluator(),\n",
    "#                           numFolds=3)"
   ]
  },
  {
   "cell_type": "code",
   "execution_count": 97,
   "metadata": {
    "scrolled": true
   },
   "outputs": [],
   "source": [
    "# start = time()\n",
    "# cvModel_lr = crossval_lr.fit(train)\n",
    "# end = time()\n",
    "# cvModel_lr.avgMetrics\n",
    "# print('The training process took {} seconds'.format(end - start))"
   ]
  },
  {
   "cell_type": "code",
   "execution_count": 98,
   "metadata": {},
   "outputs": [],
   "source": [
    "# results_lr = cvModel_lr.transform(test)"
   ]
  },
  {
   "cell_type": "code",
   "execution_count": 99,
   "metadata": {},
   "outputs": [],
   "source": [
    "# evaluator = MulticlassClassificationEvaluator(predictionCol=\"prediction\")\n",
    "# print('Logistic Regression Metrics:')\n",
    "# print('Accuracy: {}'.format(evaluator.evaluate(results_lr, {evaluator.metricName: \"accuracy\"})))\n",
    "# print('F-1 Score:{}'.format(evaluator.evaluate(results_lr, {evaluator.metricName: \"f1\"})))"
   ]
  },
  {
   "cell_type": "markdown",
   "metadata": {},
   "source": [
    "### ROC Curve"
   ]
  },
  {
   "cell_type": "code",
   "execution_count": 100,
   "metadata": {},
   "outputs": [],
   "source": [
    "# trainingSummary = cvModel_lr.summary\n",
    "# roc = trainingSummary.roc.toPandas()\n",
    "# plt.plot(roc['FPR'],roc['TPR'])\n",
    "# plt.ylabel('False Positive Rate')\n",
    "# plt.xlabel('True Positive Rate')\n",
    "# plt.title('ROC Curve')\n",
    "# plt.show()\n",
    "# print('Training set areaUnderROC: ' + str(trainingSummary.areaUnderROC))"
   ]
  },
  {
   "cell_type": "markdown",
   "metadata": {},
   "source": [
    "### Precision - Recall"
   ]
  },
  {
   "cell_type": "code",
   "execution_count": 101,
   "metadata": {},
   "outputs": [],
   "source": [
    "# pr = trainingSummary.pr.toPandas()\n",
    "# plt.plot(pr['recall'],pr['precision'])\n",
    "# plt.ylabel('Precision')\n",
    "# plt.xlabel('Recall')\n",
    "# plt.show()"
   ]
  },
  {
   "cell_type": "markdown",
   "metadata": {},
   "source": [
    "### AUC on test"
   ]
  },
  {
   "cell_type": "code",
   "execution_count": 102,
   "metadata": {},
   "outputs": [],
   "source": [
    "# predictions = results_lr"
   ]
  },
  {
   "cell_type": "code",
   "execution_count": 103,
   "metadata": {},
   "outputs": [],
   "source": [
    "# from pyspark.ml.evaluation import BinaryClassificationEvaluator\n",
    "# evaluator = BinaryClassificationEvaluator()\n",
    "# print('Test Area Under ROC', evaluator.evaluate(predictions))"
   ]
  },
  {
   "cell_type": "markdown",
   "metadata": {},
   "source": [
    "## Gradient Boosting Machines"
   ]
  },
  {
   "cell_type": "code",
   "execution_count": 104,
   "metadata": {},
   "outputs": [],
   "source": [
    "from pyspark.ml.classification import GBTClassifier\n",
    "\n",
    "# gbtModel = gbt.fit(train)"
   ]
  },
  {
   "cell_type": "code",
   "execution_count": 105,
   "metadata": {},
   "outputs": [],
   "source": [
    "# initialize classifier\n",
    "gbt = GBTClassifier()\n",
    "\n",
    "# set evaluator\n",
    "f1_evaluator = MulticlassClassificationEvaluator(metricName='f1')\n",
    "\n",
    "# build paramGrid\n",
    "paramGrid = ParamGridBuilder().addGrid(gbt.maxDepth,[5, 10]).build()\n",
    "\n",
    "crossval_gbt = CrossValidator(estimator=gbt,\n",
    "                          evaluator=f1_evaluator, \n",
    "                          estimatorParamMaps=paramGrid,\n",
    "                          numFolds=2)"
   ]
  },
  {
   "cell_type": "code",
   "execution_count": null,
   "metadata": {},
   "outputs": [],
   "source": [
    "start = time()\n",
    "cvModel_lr = crossval_gbt.fit(train)\n",
    "end = time()\n",
    "cvModel_gbt.avgMetrics\n",
    "print('The training process took {} seconds'.format(end - start))"
   ]
  },
  {
   "cell_type": "code",
   "execution_count": null,
   "metadata": {},
   "outputs": [],
   "source": [
    "predictions = cvModel_gbt.transform(test)\n",
    "predictions.show()"
   ]
  },
  {
   "cell_type": "code",
   "execution_count": null,
   "metadata": {},
   "outputs": [],
   "source": [
    "evaluator = MulticlassClassificationEvaluator(predictionCol=\"prediction\")\n",
    "print('Model_gbt Metrics:')\n",
    "print('Accuracy: {}'.format(evaluator.evaluate(predictions, {evaluator.metricName: \"accuracy\"})))\n",
    "print('F-1 Score:{}'.format(evaluator.evaluate(predictions, {evaluator.metricName: \"f1\"})))"
   ]
  },
  {
   "cell_type": "markdown",
   "metadata": {},
   "source": [
    "### AUC on test"
   ]
  },
  {
   "cell_type": "code",
   "execution_count": null,
   "metadata": {},
   "outputs": [],
   "source": [
    "evaluator = BinaryClassificationEvaluator()\n",
    "print(\"Test Area Under ROC: \" + str(evaluator.evaluate(predictions, {evaluator.metricName: \"areaUnderROC\"})))"
   ]
  },
  {
   "cell_type": "markdown",
   "metadata": {},
   "source": [
    "### Feature importance from GBT"
   ]
  },
  {
   "cell_type": "code",
   "execution_count": null,
   "metadata": {},
   "outputs": [],
   "source": [
    "feat_imp = gbtModel.featureImportances.values\n",
    "cols = features\n",
    "y_pos = np.arange(len(cols))"
   ]
  },
  {
   "cell_type": "code",
   "execution_count": null,
   "metadata": {},
   "outputs": [],
   "source": [
    "feat_imp"
   ]
  },
  {
   "cell_type": "code",
   "execution_count": null,
   "metadata": {},
   "outputs": [],
   "source": [
    "features"
   ]
  },
  {
   "cell_type": "code",
   "execution_count": null,
   "metadata": {},
   "outputs": [],
   "source": [
    "plt.barh(1,feat_imp, align='center')\n",
    "# plt.yticks(y_pos, cols)\n",
    "# plt.xlabel('Importance Score')\n",
    "# plt.title('GBT Feature Importances');"
   ]
  },
  {
   "cell_type": "markdown",
   "metadata": {},
   "source": [
    "# Final Steps\n",
    "Clean up your code, adding comments and renaming variables to make the code easier to read and maintain. Refer to the Spark Project Overview page and Data Scientist Capstone Project Rubric to make sure you are including all components of the capstone project and meet all expectations. Remember, this includes thorough documentation in a README file in a Github repository, as well as a web app or blog post."
   ]
  },
  {
   "cell_type": "code",
   "execution_count": null,
   "metadata": {},
   "outputs": [],
   "source": []
  },
  {
   "cell_type": "markdown",
   "metadata": {},
   "source": [
    "# Conclusion\n",
    "### Summary\n",
    "\n",
    "In this notebook, we implemented a model trying to predict customer churn. We removed rows with no userId, converted timestamp to a human readable format, converted gender to binary numeric column. 10 features were built for our model. We selected 4 models: logistic regression, GBM, SVM, and RF to compare and select GBM as the final model implemented for predicting final result. We used cross validation and grid search to fine tune our model. We achieved about 80% accuracy, and 0.79 F1 score, which is about 14% improvement compare to our baseline model - sending everyone an offer.\n",
    "\n",
    "\n",
    "### Reflection\n",
    "\n",
    "This project gives exposure to spark environment to analyze a large volume of data that a personal laptop may not be capable to analyze. By identifying customer with high chance to churn prior to the acutal losing, companies are able to use minimal cost to save customers by using targeted messages and offers.\n",
    "\n",
    "One of the interesting yet difficult things during the project is brainstroming the features that we can derived from the data we have on hand. Developing useful features is crucial to developing a good model, and requires a lot of energy and efforts. Explanatory and exploratory data analysis play important role in this process.\n",
    "\n",
    "### Improvement\n",
    "\n",
    "The features can be improved a lot after considering more factors, adding more domain knowledges and expertise. Although the volume of data may required tools such as spark to analyze, but we can use more data to have better results as the user base grow.\n",
    "\n",
    "Currently, we have about 450 records of unique users, and we only use 60% of them to train. That said, the model has a huge potential to improve if the sample size increase, and the expected performance will also increase"
   ]
  },
  {
   "cell_type": "code",
   "execution_count": null,
   "metadata": {},
   "outputs": [],
   "source": []
  }
 ],
 "metadata": {
  "kernelspec": {
   "display_name": "Python 3",
   "language": "python",
   "name": "python3"
  },
  "language_info": {
   "codemirror_mode": {
    "name": "ipython",
    "version": 3
   },
   "file_extension": ".py",
   "mimetype": "text/x-python",
   "name": "python",
   "nbconvert_exporter": "python",
   "pygments_lexer": "ipython3",
   "version": "3.6.3"
  }
 },
 "nbformat": 4,
 "nbformat_minor": 2
}
