{
 "cells": [
  {
   "cell_type": "markdown",
   "metadata": {},
   "source": [
    "# Sparkify Project Workspace\n",
    "This workspace contains a tiny subset (128MB) of the full dataset available (12GB). Feel free to use this workspace to build your project, or to explore a smaller subset with Spark before deploying your cluster on the cloud. Instructions for setting up your Spark cluster is included in the last lesson of the Extracurricular Spark Course content.\n",
    "\n",
    "You can follow the steps below to guide your data analysis and model building portion of this project."
   ]
  },
  {
   "cell_type": "code",
   "execution_count": 15,
   "metadata": {},
   "outputs": [],
   "source": [
    "# import libraries\n",
    "import pyspark\n",
    "from pyspark import SparkConf\n",
    "from pyspark.sql import SparkSession\n",
    "\n",
    "from pyspark.sql import SparkSession\n",
    "from pyspark.sql.functions import udf\n",
    "from pyspark.sql.types import StringType, TimestampType\n",
    "from pyspark.sql.types import IntegerType, DateType\n",
    "from pyspark.sql.functions import desc\n",
    "from pyspark.sql.functions import asc\n",
    "from pyspark.sql.functions import sum as Fsum\n",
    "from pyspark.sql import Window\n",
    "\n",
    "from datetime import datetime\n",
    "\n",
    "from pyspark.sql.types import IntegerType\n",
    "from pyspark.ml.feature import RegexTokenizer, VectorAssembler\n",
    "\n",
    "from pyspark.sql.functions import isnan, count, when, col, desc, udf, col, sort_array, asc, avg, lit\n",
    "from pyspark.sql.functions import explode, min, max, split, stddev, countDistinct\n",
    "from pyspark.sql.functions import to_date, datediff, current_timestamp\n",
    "\n",
    "import numpy as np\n",
    "import pandas as pd\n",
    "%matplotlib inline\n",
    "import matplotlib.pyplot as plt\n",
    "import seaborn as sns\n",
    "\n",
    "from time import time"
   ]
  },
  {
   "cell_type": "code",
   "execution_count": 16,
   "metadata": {},
   "outputs": [
    {
     "data": {
      "text/plain": [
       "[('spark.dynamicAllocation.enabled', 'false'),\n",
       " ('spark.eventLog.enabled', 'true'),\n",
       " ('spark.network.crypto.keyLength', '256'),\n",
       " ('spark.shuffle.service.enabled', 'false'),\n",
       " ('spark.network.crypto.enabled', 'true'),\n",
       " ('spark.driver.memory', '4g'),\n",
       " ('spark.executor.extraClassPath',\n",
       "  '/usr/local/share/jupyter/kernels/scala/lib/*:/home/spark/shared/user-libs/spark2/*:/home/spark/shared/user-libs/common/*:/home/spark/shared/user-libs/connectors/*:/opt/ibm/connectors/db2/*:/opt/ibm/connectors/others-db-drivers/*:/opt/ibm/third-party/libs/spark2/*:/opt/ibm/third-party/libs/common/*:/opt/ibm/third-party/libs/connectors/*'),\n",
       " ('spark.authenticate.enableSaslEncryption', 'true'),\n",
       " ('spark.ui.port', '4040'),\n",
       " ('spark.ui.killEnabled', 'false'),\n",
       " ('spark.hadoop.fs.stocator.glob.bracket.support', 'true'),\n",
       " ('spark.driver.extraJavaOptions',\n",
       "  ' -Dderby.system.home=/home/spark/.local/share/jupyter/runtime/kernel-3fcd5429-c474-402d-9670-5a09899a97fc-20200409_115602 -Dlog4j.logFile=/home/spark/shared/logs/kernel-python3.6-python3.6-20200409_115602.log -Dlog4j.configuration=file:/opt/ibm/jkg/log4j/log4j.properties -Dfile.encoding=UTF-8 '),\n",
       " ('spark.serializer.objectStreamReset', '100'),\n",
       " ('spark.submit.deployMode', 'client'),\n",
       " ('spark.app.id', 'app-20200409115622-0000'),\n",
       " ('spark.ui.proxyBase', '/proxy/app-20200409115622-0000'),\n",
       " ('spark.driver.cores', '1'),\n",
       " ('spark.driver.port', '41144'),\n",
       " ('spark.ui.reverseProxy', 'true'),\n",
       " ('spark.eventLog.dir', 'file:///home/spark/shared/spark-events'),\n",
       " ('spark.hadoop.fs.stocator.scheme.list', 'cos'),\n",
       " ('spark.history.ui.port', '18080'),\n",
       " ('spark.worker.ui.port', '8081'),\n",
       " ('spark.r.command', '/opt/ibm/conda/R/bin/Rscript'),\n",
       " ('spark.executor.memory', '4g'),\n",
       " ('spark.ui.enabled', 'true'),\n",
       " ('spark.executor.id', 'driver'),\n",
       " ('spark.authenticate.secret', '5b7adb5d-0907-40af-8073-e45c5b0a8ab8'),\n",
       " ('spark.master',\n",
       "  'spark://jkg-deployment-3fcd5429-c474-402d-9670-5a09899a97fc-846df97pn88:7077'),\n",
       " ('spark.app.name', 'churn-prediction'),\n",
       " ('spark.shuffle.service.port', '7337'),\n",
       " ('spark.driver.host', '172.30.206.203'),\n",
       " ('spark.hadoop.fs.cos.impl', 'com.ibm.stocator.fs.ObjectStoreFileSystem'),\n",
       " ('spark.hadoop.fs.s3a.impl', 'org.apache.hadoop.fs.s3a.S3AFileSystem'),\n",
       " ('spark.sql.catalogImplementation', 'hive'),\n",
       " ('spark.driver.extraClassPath',\n",
       "  '/usr/local/share/jupyter/kernels/scala/lib/*:/home/spark/shared/user-libs/spark2/*:/home/spark/shared/user-libs/common/*:/home/spark/shared/user-libs/connectors/*:/opt/ibm/connectors/db2/*:/opt/ibm/connectors/others-db-drivers/*:/opt/ibm/third-party/libs/spark2/*:/opt/ibm/third-party/libs/common/*:/opt/ibm/third-party/libs/connectors/*'),\n",
       " ('spark.master.ui.port', '8080'),\n",
       " ('spark.rdd.compress', 'True'),\n",
       " ('spark.hadoop.fs.stocator.cos.impl', 'com.ibm.stocator.fs.cos.COSAPIClient'),\n",
       " ('spark.executor.instances', '1'),\n",
       " ('spark.history.fs.logDirectory', '/home/spark/shared/spark-event'),\n",
       " ('spark.hadoop.fs.s3a.multipart.size', '33554432'),\n",
       " ('spark.executor.cores', '1'),\n",
       " ('spark.hadoop.fs.stocator.cos.scheme', 'cos'),\n",
       " ('spark.hadoop.fs.s3a.fast.upload', 'true'),\n",
       " ('spark.authenticate', 'true'),\n",
       " ('spark.ui.showConsoleProgress', 'true')]"
      ]
     },
     "execution_count": 16,
     "metadata": {},
     "output_type": "execute_result"
    }
   ],
   "source": [
    "# create a Spark session\n",
    "spark = SparkSession \\\n",
    "    .builder \\\n",
    "    .appName(\"churn-prediction\") \\\n",
    "    .getOrCreate()\n",
    "    \n",
    "spark.sparkContext.getConf().getAll()"
   ]
  },
  {
   "cell_type": "code",
   "execution_count": 17,
   "metadata": {},
   "outputs": [
    {
     "data": {
      "text/html": [
       "\n",
       "            <div>\n",
       "                <p><b>SparkSession - hive</b></p>\n",
       "                \n",
       "        <div>\n",
       "            <p><b>SparkContext</b></p>\n",
       "\n",
       "\n",
       "            <dl>\n",
       "              <dt>Version</dt>\n",
       "                <dd><code>v2.4.3</code></dd>\n",
       "              <dt>Master</dt>\n",
       "                <dd><code>spark://jkg-deployment-3fcd5429-c474-402d-9670-5a09899a97fc-846df97pn88:7077</code></dd>\n",
       "              <dt>AppName</dt>\n",
       "                <dd><code>pyspark-shell</code></dd>\n",
       "            </dl>\n",
       "        </div>\n",
       "        \n",
       "            </div>\n",
       "        "
      ],
      "text/plain": [
       "<pyspark.sql.session.SparkSession at 0x7febe31539b0>"
      ]
     },
     "execution_count": 17,
     "metadata": {},
     "output_type": "execute_result"
    }
   ],
   "source": [
    "spark"
   ]
  },
  {
   "cell_type": "markdown",
   "metadata": {},
   "source": [
    "# Load and Clean Dataset\n",
    "In this workspace, the mini-dataset file is `mini_sparkify_event_data.json`. Load and clean the dataset, checking for invalid or missing data - for example, records without userids or sessionids. "
   ]
  },
  {
   "cell_type": "markdown",
   "metadata": {},
   "source": [
    "### Comment: We will also perform some data exploration here"
   ]
  },
  {
   "cell_type": "code",
   "execution_count": 18,
   "metadata": {},
   "outputs": [
    {
     "data": {
      "text/plain": [
       "[Row(artist='Martin Orford', auth='Logged In', firstName='Joseph', gender='M', itemInSession=20, lastName='Morales', length=597.55057, level='free', location='Corpus Christi, TX', method='PUT', page='NextSong', registration=1532063507000, sessionId=292, song='Grand Designs', status=200, ts=1538352011000, userAgent='\"Mozilla/5.0 (Macintosh; Intel Mac OS X 10_9_4) AppleWebKit/537.36 (KHTML, like Gecko) Chrome/36.0.1985.125 Safari/537.36\"', userId='293'),\n",
       " Row(artist=\"John Brown's Body\", auth='Logged In', firstName='Sawyer', gender='M', itemInSession=74, lastName='Larson', length=380.21179, level='free', location='Houston-The Woodlands-Sugar Land, TX', method='PUT', page='NextSong', registration=1538069638000, sessionId=97, song='Bulls', status=200, ts=1538352025000, userAgent='\"Mozilla/5.0 (Macintosh; Intel Mac OS X 10_9_4) AppleWebKit/537.36 (KHTML, like Gecko) Chrome/36.0.1985.143 Safari/537.36\"', userId='98'),\n",
       " Row(artist='Afroman', auth='Logged In', firstName='Maverick', gender='M', itemInSession=184, lastName='Santiago', length=202.37016, level='paid', location='Orlando-Kissimmee-Sanford, FL', method='PUT', page='NextSong', registration=1535953455000, sessionId=178, song='Because I Got High', status=200, ts=1538352118000, userAgent='\"Mozilla/5.0 (Macintosh; Intel Mac OS X 10_9_4) AppleWebKit/537.36 (KHTML, like Gecko) Chrome/36.0.1985.143 Safari/537.36\"', userId='179'),\n",
       " Row(artist=None, auth='Logged In', firstName='Maverick', gender='M', itemInSession=185, lastName='Santiago', length=None, level='paid', location='Orlando-Kissimmee-Sanford, FL', method='PUT', page='Logout', registration=1535953455000, sessionId=178, song=None, status=307, ts=1538352119000, userAgent='\"Mozilla/5.0 (Macintosh; Intel Mac OS X 10_9_4) AppleWebKit/537.36 (KHTML, like Gecko) Chrome/36.0.1985.143 Safari/537.36\"', userId='179'),\n",
       " Row(artist='Lily Allen', auth='Logged In', firstName='Gianna', gender='F', itemInSession=22, lastName='Campos', length=194.53342, level='paid', location='Mobile, AL', method='PUT', page='NextSong', registration=1535931018000, sessionId=245, song='Smile (Radio Edit)', status=200, ts=1538352124000, userAgent='Mozilla/5.0 (Windows NT 6.1; WOW64; rv:31.0) Gecko/20100101 Firefox/31.0', userId='246')]"
      ]
     },
     "execution_count": 18,
     "metadata": {},
     "output_type": "execute_result"
    }
   ],
   "source": [
    "import ibmos2spark\n",
    "# @hidden_cell\n",
    "credentials = {\n",
    "    'endpoint': 'https://s3.eu-geo.objectstorage.service.networklayer.com',\n",
    "    'service_id': 'iam-ServiceId-d4133564-626b-417e-a51b-590db2a58dca',\n",
    "    'iam_service_endpoint': 'https://iam.eu-gb.bluemix.net/oidc/token',\n",
    "    'api_key': 'MY0HDCuUq4FBxUekaDk7x6HI3PsYEZaxjt0xOSqhPX9i'\n",
    "}\n",
    "\n",
    "configuration_name = 'os_065589b5fbc44670bc2c61d4c2840804_configs'\n",
    "cos = ibmos2spark.CloudObjectStorage(sc, credentials, configuration_name, 'bluemix_cos')\n",
    "\n",
    "from pyspark.sql import SparkSession\n",
    "spark = SparkSession.builder.getOrCreate()\n",
    "# Since JSON data can be semi-structured and contain additional metadata, it is possible that you might face issues with the DataFrame layout.\n",
    "# Please read the documentation of 'SparkSession.read()' to learn more about the possibilities to adjust the data loading.\n",
    "# PySpark documentation: http://spark.apache.org/docs/2.0.2/api/python/pyspark.sql.html#pyspark.sql.DataFrameReader.json\n",
    "\n",
    "df_data_1 = spark.read.json(cos.url('medium-sparkify-event-data.json', 'sparkify-donotdelete-pr-i2mfuoqa2gxtrm'))\n",
    "df_data_1.take(5)"
   ]
  },
  {
   "cell_type": "code",
   "execution_count": 19,
   "metadata": {},
   "outputs": [],
   "source": [
    "user_log = df_data_1"
   ]
  },
  {
   "cell_type": "code",
   "execution_count": 20,
   "metadata": {},
   "outputs": [
    {
     "name": "stdout",
     "output_type": "stream",
     "text": [
      "root\n",
      " |-- artist: string (nullable = true)\n",
      " |-- auth: string (nullable = true)\n",
      " |-- firstName: string (nullable = true)\n",
      " |-- gender: string (nullable = true)\n",
      " |-- itemInSession: long (nullable = true)\n",
      " |-- lastName: string (nullable = true)\n",
      " |-- length: double (nullable = true)\n",
      " |-- level: string (nullable = true)\n",
      " |-- location: string (nullable = true)\n",
      " |-- method: string (nullable = true)\n",
      " |-- page: string (nullable = true)\n",
      " |-- registration: long (nullable = true)\n",
      " |-- sessionId: long (nullable = true)\n",
      " |-- song: string (nullable = true)\n",
      " |-- status: long (nullable = true)\n",
      " |-- ts: long (nullable = true)\n",
      " |-- userAgent: string (nullable = true)\n",
      " |-- userId: string (nullable = true)\n",
      "\n"
     ]
    }
   ],
   "source": [
    "user_log.printSchema()"
   ]
  },
  {
   "cell_type": "markdown",
   "metadata": {},
   "source": [
    "### Cleaning"
   ]
  },
  {
   "cell_type": "markdown",
   "metadata": {},
   "source": [
    "### Some cleaning happens here:\n",
    "\n",
    "We would like to replace empty userId strings by actual NAN values"
   ]
  },
  {
   "cell_type": "code",
   "execution_count": 21,
   "metadata": {},
   "outputs": [],
   "source": [
    "user_log = user_log.replace(to_replace='', value=None, subset=['userId'])"
   ]
  },
  {
   "cell_type": "markdown",
   "metadata": {},
   "source": [
    "### Sort by UserID, and then by Timestamp (ascending)"
   ]
  },
  {
   "cell_type": "code",
   "execution_count": 22,
   "metadata": {},
   "outputs": [],
   "source": [
    "user_log = user_log.orderBy([\"userId\", \"ts\"], ascending=[1, 1])"
   ]
  },
  {
   "cell_type": "markdown",
   "metadata": {},
   "source": [
    "### Convert from timestamp to datetime, to see exactly how wide a timeline we are covering"
   ]
  },
  {
   "cell_type": "markdown",
   "metadata": {},
   "source": [
    "We faced two issues here; first, our ts field is in miliseconds, not seconds, that has an easy solution though. Second is actually transforming the timestamp in second to datetime.\n",
    "\n",
    "https://stackoverflow.com/questions/51983037/convert-from-timestamp-to-specific-date-in-pyspark"
   ]
  },
  {
   "cell_type": "code",
   "execution_count": 23,
   "metadata": {},
   "outputs": [],
   "source": [
    "#transform from miliseconds to seconds\n",
    "\n",
    "user_log = user_log.withColumn('ts_in_seconds', user_log.ts/1000)\n",
    "user_log = user_log.withColumn('registration_in_seconds', user_log.registration/1000)"
   ]
  },
  {
   "cell_type": "code",
   "execution_count": 24,
   "metadata": {},
   "outputs": [],
   "source": [
    "# Create a function that returns the desired string from a timestamp \n",
    "def format_timestamp(ts):\n",
    "    return datetime.fromtimestamp(ts).strftime('%Y-%m-%d %H:%M:%S')\n",
    "\n",
    "# Create the UDF\n",
    "format_timestamp_udf = udf(lambda x: format_timestamp(x))\n",
    "\n",
    "# Finally, apply the function to each element of the 'timestamp' column\n",
    "user_log = user_log.withColumn('datetime', format_timestamp_udf(user_log['ts_in_seconds']))\n",
    "user_log = user_log.withColumn('registration_datetime', format_timestamp_udf(user_log['registration_in_seconds']))"
   ]
  },
  {
   "cell_type": "code",
   "execution_count": 25,
   "metadata": {},
   "outputs": [
    {
     "name": "stdout",
     "output_type": "stream",
     "text": [
      "Our data covers from 2018-10-01 00:00:11 to 2018-12-01 00:01:06\n"
     ]
    }
   ],
   "source": [
    "max_date = user_log.where(~user_log.datetime.isNull()).agg({\"datetime\": \"max\"}).collect()[0][0]\n",
    "min_date = user_log.where(~user_log.datetime.isNull()).agg({\"datetime\": \"min\"}).collect()[0][0]\n",
    "print('Our data covers from {} to {}'.format(min_date, max_date))"
   ]
  },
  {
   "cell_type": "markdown",
   "metadata": {},
   "source": [
    "### Example of log for onse user (userId == XXX)"
   ]
  },
  {
   "cell_type": "code",
   "execution_count": 26,
   "metadata": {
    "scrolled": false
   },
   "outputs": [
    {
     "data": {
      "text/plain": [
       "[]"
      ]
     },
     "execution_count": 26,
     "metadata": {},
     "output_type": "execute_result"
    }
   ],
   "source": [
    "user_log.where(col('userId') == 101).where(col('sessionId')== 635).\\\n",
    "select(['sessionId','datetime','page','level','artist','song']).take(10)"
   ]
  },
  {
   "cell_type": "markdown",
   "metadata": {},
   "source": [
    "### Relationship between AUTH and PAGE\n",
    "\n",
    "From what we see below: \n",
    "\n",
    "* **Logged in** corresponds to the normal usage of the application, with users navigating through different sections of the app, playing songs, and finally returning to home or logging out.\n",
    "\n",
    "* Logged out: about, help, error (404), home and login. We do not have userId either when users are logged out from the application.\n",
    "\n",
    "* Guests only can access the following pages: register, about, submit registration, help, home and error (page 404). As we do not have userID for guest or any other mean to track them if they afterward become users, this auth is of no use for us. Probably if we see a guest registering, and a new user id popping up right afterwards we could relate them, by timestamp, but I do not think this is needed for our analysis just yet.\n",
    "\n",
    "* auth **Cancelled** corresponds to page 'Cancellation confirmation', which is pretty useful for us to track actual cancellations. They contain userID and User information.\n",
    "\n",
    "Most interesting one is therefore Logged in, which tells us how each user behaves while using the app"
   ]
  },
  {
   "cell_type": "markdown",
   "metadata": {},
   "source": [
    "### Lastly, Let's keep just auth=Logged in and Cancelled\n",
    "\n",
    "This is because all the actions/events we are interested in happens while auth=Logged In, and we define our target as user who have cancelled the service, and they are represented with an entry which has auth=Cancelled"
   ]
  },
  {
   "cell_type": "code",
   "execution_count": 27,
   "metadata": {},
   "outputs": [],
   "source": [
    "user_log = user_log.where(user_log.auth.isin(['Logged In', 'Cancelled']))"
   ]
  },
  {
   "cell_type": "markdown",
   "metadata": {},
   "source": [
    "Now we should have our dataset loaded as the **user_log** dataframe. Empty user or sessionids have been removed.  Last but not least, we have also restricted our data to actions while people were logged into the app (cause otherwise we would not have info about the users) and cancellations, which belong to auth - 'cancelled'."
   ]
  },
  {
   "cell_type": "markdown",
   "metadata": {},
   "source": [
    "# Exploratory Data Analysis\n",
    "When you're working with the full dataset, perform EDA by loading a small subset of the data and doing basic manipulations within Spark. In this workspace, you are already provided a small subset of data you can explore.\n",
    "\n",
    "### Define Churn\n",
    "\n",
    "Once you've done some preliminary analysis, create a column `Churn` to use as the label for your model. I suggest using the `Cancellation Confirmation` events to define your churn, which happen for both paid and free users. As a bonus task, you can also look into the `Downgrade` events.\n",
    "\n",
    "### Explore Data\n",
    "Once you've defined churn, perform some exploratory data analysis to observe the behavior for users who stayed vs users who churned. You can start by exploring aggregates on these two groups of users, observing how much of a specific action they experienced per a certain time unit or number of songs played."
   ]
  },
  {
   "cell_type": "markdown",
   "metadata": {},
   "source": [
    "### Some general numbers"
   ]
  },
  {
   "cell_type": "code",
   "execution_count": 28,
   "metadata": {},
   "outputs": [
    {
     "name": "stdout",
     "output_type": "stream",
     "text": [
      "There are 528005 rows in this dataset.\n",
      "Number of different Artists listened to is 21248.\n",
      "and containing 80293 different songs\n",
      "Data from 192 different locations\n",
      "On 448 different users\n"
     ]
    }
   ],
   "source": [
    "print('There are {} rows in this dataset.'.format(user_log.count()))\n",
    "print('Number of different Artists listened to is {}.'.format(user_log.select(\"artist\").dropDuplicates().toPandas().shape[0]))\n",
    "print('and containing {} different songs'.format(user_log.select(\"song\").dropDuplicates().toPandas().shape[0]))\n",
    "print('Data from {} different locations'.format(user_log.select(\"location\").dropDuplicates().toPandas().shape[0]))\n",
    "print('On {} different users'.format(user_log.select(\"userId\").dropDuplicates().toPandas().shape[0]))"
   ]
  },
  {
   "cell_type": "markdown",
   "metadata": {},
   "source": [
    "### Length of Song"
   ]
  },
  {
   "cell_type": "code",
   "execution_count": 29,
   "metadata": {},
   "outputs": [
    {
     "name": "stdout",
     "output_type": "stream",
     "text": [
      "Numeric Statistics about the length of every session\n",
      "+-------+-----------------+\n",
      "|summary|           length|\n",
      "+-------+-----------------+\n",
      "|  count|           432877|\n",
      "|   mean|248.6645927800736|\n",
      "| stddev|98.41266955052019|\n",
      "|    min|          0.78322|\n",
      "|    max|       3024.66567|\n",
      "+-------+-----------------+\n",
      "\n"
     ]
    }
   ],
   "source": [
    "print('Numeric Statistics about the length of every session')\n",
    "user_log.describe('length').show()"
   ]
  },
  {
   "cell_type": "code",
   "execution_count": 30,
   "metadata": {},
   "outputs": [
    {
     "data": {
      "text/plain": [
       "<matplotlib.axes._subplots.AxesSubplot at 0x7febc70e4908>"
      ]
     },
     "execution_count": 30,
     "metadata": {},
     "output_type": "execute_result"
    },
    {
     "data": {
      "image/png": "[encoded data removed]",
      "text/plain": [
       "<Figure size 432x288 with 1 Axes>"
      ]
     },
     "metadata": {
      "needs_background": "light"
     },
     "output_type": "display_data"
    }
   ],
   "source": [
    "song_length = user_log.where(user_log.length >= 0).select('length').toPandas()\n",
    "song_length['length'].hist(bins=20)"
   ]
  },
  {
   "cell_type": "code",
   "execution_count": 31,
   "metadata": {},
   "outputs": [
    {
     "data": {
      "text/plain": [
       "<matplotlib.lines.Line2D at 0x7febbbebcf98>"
      ]
     },
     "execution_count": 31,
     "metadata": {},
     "output_type": "execute_result"
    },
    {
     "data": {
      "image/png": "[encoded data removed]",
      "text/plain": [
       "<Figure size 432x288 with 1 Axes>"
      ]
     },
     "metadata": {
      "needs_background": "light"
     },
     "output_type": "display_data"
    }
   ],
   "source": [
    "song_length = user_log.where(user_log.length <= 600).select('length').toPandas()\n",
    "song_length['length'].hist(bins=20)\n",
    "plt.axvline(x=user_log.agg({\"length\": \"mean\"}).collect()[0][0], color='black')"
   ]
  },
  {
   "cell_type": "markdown",
   "metadata": {},
   "source": [
    "Wow. Such normal. Although we know that there is a long long tail we are filtering out in the viz above, as we can tell by the mean being displaced to the right of the center of the ditribution. But nevertheless, Having a normal distribution for length songs makes sense, and altough we might have some erroneos values for length, they are not biasing this distribution in any way. We may proceed."
   ]
  },
  {
   "cell_type": "markdown",
   "metadata": {},
   "source": [
    "### Gender"
   ]
  },
  {
   "cell_type": "markdown",
   "metadata": {},
   "source": [
    "It might look that gender is uncorrectly filled for some users, but those 'None' entries come from sessions that are not logged."
   ]
  },
  {
   "cell_type": "code",
   "execution_count": 32,
   "metadata": {},
   "outputs": [
    {
     "data": {
      "text/plain": [
       "[Row(gender='F', count=225393), Row(gender='M', count=302612)]"
      ]
     },
     "execution_count": 32,
     "metadata": {},
     "output_type": "execute_result"
    }
   ],
   "source": [
    "user_log.groupby(\"gender\").count().collect()"
   ]
  },
  {
   "cell_type": "markdown",
   "metadata": {},
   "source": [
    "### Items in Session"
   ]
  },
  {
   "cell_type": "markdown",
   "metadata": {},
   "source": [
    "There are extraordinarily large numbers in itemInSessions, but the reason might be as easy as users not logging out in several days from the application and therefore accumulating items for several days."
   ]
  },
  {
   "cell_type": "code",
   "execution_count": 33,
   "metadata": {},
   "outputs": [
    {
     "data": {
      "text/plain": [
       "<matplotlib.axes._subplots.AxesSubplot at 0x7febc5ff3b00>"
      ]
     },
     "execution_count": 33,
     "metadata": {},
     "output_type": "execute_result"
    },
    {
     "data": {
      "image/png": "[encoded data removed]",
      "text/plain": [
       "<Figure size 432x288 with 1 Axes>"
      ]
     },
     "metadata": {
      "needs_background": "light"
     },
     "output_type": "display_data"
    }
   ],
   "source": [
    "user_log.select('itemInSession').toPandas()['itemInSession'].hist()"
   ]
  },
  {
   "cell_type": "markdown",
   "metadata": {},
   "source": [
    "### Subscription level"
   ]
  },
  {
   "cell_type": "code",
   "execution_count": 34,
   "metadata": {},
   "outputs": [
    {
     "data": {
      "text/plain": [
       "[Row(level='free', count=109961), Row(level='paid', count=418044)]"
      ]
     },
     "execution_count": 34,
     "metadata": {},
     "output_type": "execute_result"
    }
   ],
   "source": [
    "user_log.groupby(\"level\").count().collect()"
   ]
  },
  {
   "cell_type": "markdown",
   "metadata": {},
   "source": [
    "### Location"
   ]
  },
  {
   "cell_type": "code",
   "execution_count": 35,
   "metadata": {},
   "outputs": [
    {
     "data": {
      "text/plain": [
       "[Row(location='New York-Newark-Jersey City, NY-NJ-PA', count=40156),\n",
       " Row(location='Los Angeles-Long Beach-Anaheim, CA', count=34278),\n",
       " Row(location='Boston-Cambridge-Newton, MA-NH', count=17574),\n",
       " Row(location='Chicago-Naperville-Elgin, IL-IN-WI', count=15194),\n",
       " Row(location='San Francisco-Oakland-Hayward, CA', count=11428),\n",
       " Row(location='Atlanta-Sandy Springs-Roswell, GA', count=11211),\n",
       " Row(location='Phoenix-Mesa-Scottsdale, AZ', count=11184),\n",
       " Row(location='Dallas-Fort Worth-Arlington, TX', count=11061),\n",
       " Row(location='Denver-Aurora-Lakewood, CO', count=9808),\n",
       " Row(location='Houston-The Woodlands-Sugar Land, TX', count=8707)]"
      ]
     },
     "execution_count": 35,
     "metadata": {},
     "output_type": "execute_result"
    }
   ],
   "source": [
    "user_log.groupby(\"location\").count().orderBy('count', ascending=False).take(10)"
   ]
  },
  {
   "cell_type": "code",
   "execution_count": 36,
   "metadata": {},
   "outputs": [
    {
     "data": {
      "text/plain": [
       "<matplotlib.axes._subplots.AxesSubplot at 0x7febbb409a58>"
      ]
     },
     "execution_count": 36,
     "metadata": {},
     "output_type": "execute_result"
    },
    {
     "data": {
      "image/png": "[encoded data removed]",
      "text/plain": [
       "<Figure size 432x288 with 1 Axes>"
      ]
     },
     "metadata": {
      "needs_background": "light"
     },
     "output_type": "display_data"
    }
   ],
   "source": [
    "location_count = user_log.groupby(\"location\").count().orderBy('count', ascending=False).toPandas()\n",
    "location_count['count'].hist(bins=20)"
   ]
  },
  {
   "cell_type": "markdown",
   "metadata": {},
   "source": [
    "We can see that there are a majority of locations with small population, and then some big cities"
   ]
  },
  {
   "cell_type": "markdown",
   "metadata": {},
   "source": [
    "### Method"
   ]
  },
  {
   "cell_type": "code",
   "execution_count": 37,
   "metadata": {},
   "outputs": [
    {
     "data": {
      "text/plain": [
       "[Row(method='PUT', count=489128), Row(method='GET', count=38877)]"
      ]
     },
     "execution_count": 37,
     "metadata": {},
     "output_type": "execute_result"
    }
   ],
   "source": [
    "user_log.groupby(\"method\").count().collect()"
   ]
  },
  {
   "cell_type": "markdown",
   "metadata": {},
   "source": [
    "### Error code 404 and page 'Error' refer to the same entries"
   ]
  },
  {
   "cell_type": "code",
   "execution_count": 38,
   "metadata": {},
   "outputs": [
    {
     "data": {
      "text/plain": [
       "[Row(page='Cancel', count=99),\n",
       " Row(page='Submit Downgrade', count=117),\n",
       " Row(page='Thumbs Down', count=4911),\n",
       " Row(page='Home', count=19089),\n",
       " Row(page='Downgrade', count=3811),\n",
       " Row(page='Roll Advert', count=7773),\n",
       " Row(page='Logout', count=5990),\n",
       " Row(page='Save Settings', count=585),\n",
       " Row(page='Cancellation Confirmation', count=99),\n",
       " Row(page='About', count=1026),\n",
       " Row(page='Settings', count=2964),\n",
       " Row(page='Add to Playlist', count=12349),\n",
       " Row(page='Add Friend', count=8087),\n",
       " Row(page='NextSong', count=432877),\n",
       " Row(page='Thumbs Up', count=23826),\n",
       " Row(page='Help', count=2644),\n",
       " Row(page='Upgrade', count=968),\n",
       " Row(page='Error', count=503),\n",
       " Row(page='Submit Upgrade', count=287)]"
      ]
     },
     "execution_count": 38,
     "metadata": {},
     "output_type": "execute_result"
    }
   ],
   "source": [
    "user_log.groupby(\"page\").count().collect()"
   ]
  },
  {
   "cell_type": "code",
   "execution_count": 39,
   "metadata": {},
   "outputs": [
    {
     "data": {
      "text/plain": [
       "[Row(status=307, count=43902),\n",
       " Row(status=404, count=503),\n",
       " Row(status=200, count=483600)]"
      ]
     },
     "execution_count": 39,
     "metadata": {},
     "output_type": "execute_result"
    }
   ],
   "source": [
    "user_log.groupby(\"status\").count().collect()"
   ]
  },
  {
   "cell_type": "code",
   "execution_count": 40,
   "metadata": {},
   "outputs": [
    {
     "data": {
      "text/plain": [
       "[Row(artist=None, auth='Cancelled', firstName='Brycen', gender='M', itemInSession=435, lastName='Bradley', length=None, level='paid', location='Laurel, MS', method='GET', page='Cancellation Confirmation', registration=1538159495000, sessionId=9, song=None, status=200, ts=1539055364000, userAgent='\"Mozilla/5.0 (Macintosh; Intel Mac OS X 10_9_4) AppleWebKit/537.36 (KHTML, like Gecko) Chrome/36.0.1985.143 Safari/537.36\"', userId='10', ts_in_seconds=1539055364.0, registration_in_seconds=1538159495.0, datetime='2018-10-09 03:22:44', registration_datetime='2018-09-28 18:31:35')]"
      ]
     },
     "execution_count": 40,
     "metadata": {},
     "output_type": "execute_result"
    }
   ],
   "source": [
    "user_log.filter(user_log.auth == 'Cancelled').take(1)"
   ]
  },
  {
   "cell_type": "markdown",
   "metadata": {},
   "source": [
    "### Comment: So we did most of our cleaning and exploratory work to this point, so for now we will just focus on defining churn, further explore some features, and create an aggregated dataset to be used in the modelling step"
   ]
  },
  {
   "cell_type": "code",
   "execution_count": 41,
   "metadata": {},
   "outputs": [],
   "source": [
    "user_log = user_log.withColumn('date', user_log.datetime.cast('date'))\n",
    "user_log = user_log.withColumn('registration_date', user_log.registration_datetime.cast('date'))"
   ]
  },
  {
   "cell_type": "code",
   "execution_count": 42,
   "metadata": {},
   "outputs": [],
   "source": [
    "has_churned = udf(lambda val: int(val == 'Cancellation Confirmation'), IntegerType())\n",
    "user_log = user_log.withColumn(\"churn\", has_churned(\"page\"))"
   ]
  },
  {
   "cell_type": "code",
   "execution_count": 43,
   "metadata": {},
   "outputs": [],
   "source": [
    "df = user_log.groupby(['userId']).agg({\"churn\": \"sum\"})\\\n",
    ".orderBy('sum(churn)', ascending=False).toPandas().rename(columns={'sum(churn)':'has_churned'})"
   ]
  },
  {
   "cell_type": "markdown",
   "metadata": {},
   "source": [
    "### Seems that a high percentage of our users have churned. That's bad for business, but great for us. this is not an extremely unbalanced problem, which tipically are hard to deal with."
   ]
  },
  {
   "cell_type": "code",
   "execution_count": 44,
   "metadata": {},
   "outputs": [
    {
     "name": "stdout",
     "output_type": "stream",
     "text": [
      "Percentage of each class\n"
     ]
    },
    {
     "data": {
      "text/plain": [
       "0    0.779018\n",
       "1    0.220982\n",
       "Name: has_churned, dtype: float64"
      ]
     },
     "execution_count": 44,
     "metadata": {},
     "output_type": "execute_result"
    }
   ],
   "source": [
    "print('Percentage of each class')\n",
    "df['has_churned'].value_counts()/df.shape[0]"
   ]
  },
  {
   "cell_type": "code",
   "execution_count": 45,
   "metadata": {},
   "outputs": [
    {
     "data": {
      "text/html": [
       "<div>\n",
       "<style scoped>\n",
       "    .dataframe tbody tr th:only-of-type {\n",
       "        vertical-align: middle;\n",
       "    }\n",
       "\n",
       "    .dataframe tbody tr th {\n",
       "        vertical-align: top;\n",
       "    }\n",
       "\n",
       "    .dataframe thead th {\n",
       "        text-align: right;\n",
       "    }\n",
       "</style>\n",
       "<table border=\"1\" class=\"dataframe\">\n",
       "  <thead>\n",
       "    <tr style=\"text-align: right;\">\n",
       "      <th></th>\n",
       "      <th>userId</th>\n",
       "      <th>has_churned</th>\n",
       "    </tr>\n",
       "  </thead>\n",
       "  <tbody>\n",
       "    <tr>\n",
       "      <th>0</th>\n",
       "      <td>124</td>\n",
       "      <td>1</td>\n",
       "    </tr>\n",
       "    <tr>\n",
       "      <th>1</th>\n",
       "      <td>51</td>\n",
       "      <td>1</td>\n",
       "    </tr>\n",
       "    <tr>\n",
       "      <th>2</th>\n",
       "      <td>132</td>\n",
       "      <td>1</td>\n",
       "    </tr>\n",
       "    <tr>\n",
       "      <th>3</th>\n",
       "      <td>100014</td>\n",
       "      <td>1</td>\n",
       "    </tr>\n",
       "    <tr>\n",
       "      <th>4</th>\n",
       "      <td>154</td>\n",
       "      <td>1</td>\n",
       "    </tr>\n",
       "  </tbody>\n",
       "</table>\n",
       "</div>"
      ],
      "text/plain": [
       "   userId  has_churned\n",
       "0     124            1\n",
       "1      51            1\n",
       "2     132            1\n",
       "3  100014            1\n",
       "4     154            1"
      ]
     },
     "execution_count": 45,
     "metadata": {},
     "output_type": "execute_result"
    }
   ],
   "source": [
    "df.head()"
   ]
  },
  {
   "cell_type": "code",
   "execution_count": 46,
   "metadata": {},
   "outputs": [],
   "source": [
    "# we get the UserIDs that have churned at any point in the period covered by our dataset\n",
    "churn_ids = df.loc[df['has_churned']==1, 'userId'].values\n",
    "no_churn_ids = df.loc[df['has_churned']==0, 'userId'].values"
   ]
  },
  {
   "cell_type": "markdown",
   "metadata": {},
   "source": [
    "### Let's compare users who have churned to those who have not"
   ]
  },
  {
   "cell_type": "markdown",
   "metadata": {},
   "source": [
    "### by length of songs"
   ]
  },
  {
   "cell_type": "code",
   "execution_count": 47,
   "metadata": {},
   "outputs": [],
   "source": [
    "user_churn = user_log.where(user_log.userId.isin(list(churn_ids)))\n",
    "user_active = user_log.where(user_log.userId.isin(list(no_churn_ids)))"
   ]
  },
  {
   "cell_type": "code",
   "execution_count": 48,
   "metadata": {},
   "outputs": [
    {
     "name": "stdout",
     "output_type": "stream",
     "text": [
      "Number of rows in dataframe with users who churned: 103646\n",
      "Number of rows in dataframe with users who have not churned: 424359\n"
     ]
    }
   ],
   "source": [
    "print('Number of rows in dataframe with users who churned: {}'.format(user_churn.count()))\n",
    "print('Number of rows in dataframe with users who have not churned: {}'.format(user_active.count()))"
   ]
  },
  {
   "cell_type": "code",
   "execution_count": 49,
   "metadata": {
    "scrolled": true
   },
   "outputs": [
    {
     "data": {
      "text/plain": [
       "Text(0.5, 1.0, 'Song Length for Active Users')"
      ]
     },
     "execution_count": 49,
     "metadata": {},
     "output_type": "execute_result"
    },
    {
     "data": {
      "image/png": "[encoded data removed]",
      "text/plain": [
       "<Figure size 432x288 with 1 Axes>"
      ]
     },
     "metadata": {
      "needs_background": "light"
     },
     "output_type": "display_data"
    }
   ],
   "source": [
    "churn_length = user_churn.where(user_log.length <= 600).select('length').toPandas()\n",
    "churn_length['length'].hist(bins=20)\n",
    "plt.axvline(x=user_churn.agg({\"length\": \"mean\"}).collect()[0][0], color='black')\n",
    "plt.title('Song Length for Active Users')"
   ]
  },
  {
   "cell_type": "code",
   "execution_count": 50,
   "metadata": {},
   "outputs": [
    {
     "data": {
      "text/plain": [
       "Text(0.5, 1.0, 'Song Length for Churn Users')"
      ]
     },
     "execution_count": 50,
     "metadata": {},
     "output_type": "execute_result"
    },
    {
     "data": {
      "image/png": "[encoded data removed]",
      "text/plain": [
       "<Figure size 432x288 with 1 Axes>"
      ]
     },
     "metadata": {
      "needs_background": "light"
     },
     "output_type": "display_data"
    }
   ],
   "source": [
    "active_length = user_active.where(user_log.length <= 600).select('length').toPandas()\n",
    "active_length['length'].hist(bins=20)\n",
    "plt.axvline(x=user_active.agg({\"length\": \"mean\"}).collect()[0][0], color='black')\n",
    "plt.title('Song Length for Churn Users')"
   ]
  },
  {
   "cell_type": "code",
   "execution_count": 51,
   "metadata": {},
   "outputs": [
    {
     "data": {
      "text/plain": [
       "<matplotlib.legend.Legend at 0x7feb78eaad68>"
      ]
     },
     "execution_count": 51,
     "metadata": {},
     "output_type": "execute_result"
    },
    {
     "data": {
      "image/png": "[encoded data removed]",
      "text/plain": [
       "<Figure size 432x288 with 1 Axes>"
      ]
     },
     "metadata": {
      "needs_background": "light"
     },
     "output_type": "display_data"
    }
   ],
   "source": [
    "sns.distplot(active_length['length'],  norm_hist=True, kde=False, label='Active')\n",
    "sns.distplot(churn_length['length'],  norm_hist=True, kde=False, label='churn')\n",
    "plt.legend()"
   ]
  },
  {
   "cell_type": "markdown",
   "metadata": {},
   "source": [
    "Virtually the **same** distribution of song length."
   ]
  },
  {
   "cell_type": "markdown",
   "metadata": {},
   "source": [
    "### Let's compare distribution of items in session"
   ]
  },
  {
   "cell_type": "code",
   "execution_count": 52,
   "metadata": {},
   "outputs": [
    {
     "data": {
      "text/plain": [
       "<matplotlib.legend.Legend at 0x7febbc1696d8>"
      ]
     },
     "execution_count": 52,
     "metadata": {},
     "output_type": "execute_result"
    },
    {
     "data": {
      "image/png": "[encoded data removed]",
      "text/plain": [
       "<Figure size 432x288 with 1 Axes>"
      ]
     },
     "metadata": {
      "needs_background": "light"
     },
     "output_type": "display_data"
    }
   ],
   "source": [
    "sns.distplot(user_active.select('itemInSession').toPandas()['itemInSession'],  kde=False, norm_hist=True, label='Active')\n",
    "sns.distplot(user_churn.select('itemInSession').toPandas()['itemInSession'],  kde=False, norm_hist=True, label='churn')\n",
    "plt.legend()"
   ]
  },
  {
   "cell_type": "markdown",
   "metadata": {},
   "source": [
    "### Number of distinct sessions (normalized by... number of days?)"
   ]
  },
  {
   "cell_type": "code",
   "execution_count": 53,
   "metadata": {},
   "outputs": [],
   "source": [
    "user_sessions = user_log.groupby('userId').\\\n",
    "agg(countDistinct('sessionId').alias('sessions'), datediff(max('date'), min('date')).alias('days')).\\\n",
    "withColumn('sessions_per_day', col('sessions')/col('days'))"
   ]
  },
  {
   "cell_type": "code",
   "execution_count": 54,
   "metadata": {},
   "outputs": [],
   "source": [
    "session_churn = user_sessions.where(col('userId').isin(list(churn_ids))).where(~col('sessions_per_day').isNull()).toPandas()\n",
    "session_active = user_sessions.where(col('userId').isin(list(no_churn_ids))).where(~col('sessions_per_day').isNull()).toPandas()"
   ]
  },
  {
   "cell_type": "code",
   "execution_count": 55,
   "metadata": {},
   "outputs": [
    {
     "data": {
      "text/plain": [
       "<matplotlib.legend.Legend at 0x7feb797232b0>"
      ]
     },
     "execution_count": 55,
     "metadata": {},
     "output_type": "execute_result"
    },
    {
     "data": {
      "image/png": "[encoded data removed]",
      "text/plain": [
       "<Figure size 432x288 with 1 Axes>"
      ]
     },
     "metadata": {
      "needs_background": "light"
     },
     "output_type": "display_data"
    }
   ],
   "source": [
    "sns.distplot(session_active['sessions_per_day'],  norm_hist=True, kde=False, label='Active')\n",
    "sns.distplot(session_churn['sessions_per_day'],  norm_hist=True, kde=False, label='churn')\n",
    "plt.legend()"
   ]
  },
  {
   "cell_type": "markdown",
   "metadata": {},
   "source": [
    "Here we do see some differences"
   ]
  },
  {
   "cell_type": "markdown",
   "metadata": {},
   "source": [
    "### Number of songs played by session?"
   ]
  },
  {
   "cell_type": "code",
   "execution_count": 56,
   "metadata": {},
   "outputs": [],
   "source": [
    "songs_session = user_log.where(col('page')=='NextSong').groupby('userId','sessionId').count()"
   ]
  },
  {
   "cell_type": "code",
   "execution_count": 57,
   "metadata": {},
   "outputs": [
    {
     "name": "stdout",
     "output_type": "stream",
     "text": [
      "root\n",
      " |-- userId: string (nullable = true)\n",
      " |-- sessionId: long (nullable = true)\n",
      " |-- count: long (nullable = false)\n",
      "\n"
     ]
    }
   ],
   "source": [
    "songs_session.printSchema()"
   ]
  },
  {
   "cell_type": "code",
   "execution_count": 58,
   "metadata": {},
   "outputs": [],
   "source": [
    "songs_churn = songs_session.where(col('userId').isin(list(churn_ids))).toPandas()\n",
    "songs_active = songs_session.where(col('userId').isin(list(no_churn_ids))).toPandas()"
   ]
  },
  {
   "cell_type": "code",
   "execution_count": 59,
   "metadata": {},
   "outputs": [
    {
     "data": {
      "text/plain": [
       "72.4733676975945"
      ]
     },
     "execution_count": 59,
     "metadata": {},
     "output_type": "execute_result"
    }
   ],
   "source": [
    "songs_churn['count'].mean()"
   ]
  },
  {
   "cell_type": "code",
   "execution_count": 60,
   "metadata": {},
   "outputs": [
    {
     "data": {
      "text/plain": [
       "73.26424216943452"
      ]
     },
     "execution_count": 60,
     "metadata": {},
     "output_type": "execute_result"
    }
   ],
   "source": [
    "songs_active['count'].mean()"
   ]
  },
  {
   "cell_type": "code",
   "execution_count": 61,
   "metadata": {},
   "outputs": [
    {
     "data": {
      "text/plain": [
       "<matplotlib.legend.Legend at 0x7feb79f51c50>"
      ]
     },
     "execution_count": 61,
     "metadata": {},
     "output_type": "execute_result"
    },
    {
     "data": {
      "image/png": "[encoded data removed]",
      "text/plain": [
       "<Figure size 432x288 with 1 Axes>"
      ]
     },
     "metadata": {
      "needs_background": "light"
     },
     "output_type": "display_data"
    }
   ],
   "source": [
    "sns.distplot(songs_churn['count'],  norm_hist=True, kde=False, label='Active')\n",
    "sns.distplot(songs_active['count'],  norm_hist=True, kde=False, label='churn')\n",
    "plt.legend()"
   ]
  },
  {
   "cell_type": "markdown",
   "metadata": {},
   "source": [
    "### We have not identifies any really interesting feature so far, besides numbe of sessions per day. By interesting we mean exhibiting clear differences between the classes (churned and not churned). We will then create new features just based on what we think might be predictor of churning, even if we do not have any evidence yet."
   ]
  },
  {
   "cell_type": "markdown",
   "metadata": {},
   "source": [
    "# Feature Engineering\n",
    "Once you've familiarized yourself with the data, build out the features you find promising to train your model on. To work with the full dataset, you can follow the following steps.\n",
    "- Write a script to extract the necessary features from the smaller subset of data\n",
    "- Ensure that your script is scalable, using the best practices discussed in Lesson 3\n",
    "- Try your script on the full data set, debugging your script if necessary\n",
    "\n",
    "If you are working in the classroom workspace, you can just extract features based on the small subset of data contained here. Be sure to transfer over this work to the larger dataset when you work on your Spark cluster."
   ]
  },
  {
   "cell_type": "code",
   "execution_count": 62,
   "metadata": {},
   "outputs": [],
   "source": [
    "# we create a list of dataframes with the structure userId, feature, and we will join them at the end using reduce.\n",
    "listDf = []"
   ]
  },
  {
   "cell_type": "markdown",
   "metadata": {},
   "source": [
    "### Feature 1: Target, churn"
   ]
  },
  {
   "cell_type": "markdown",
   "metadata": {},
   "source": [
    "This feature has already been created!"
   ]
  },
  {
   "cell_type": "code",
   "execution_count": 63,
   "metadata": {},
   "outputs": [],
   "source": [
    "map_user_churn = user_log.groupby(['userId']).agg({\"churn\": \"sum\"}).withColumn('churn',col('sum(churn)')).\\\n",
    "select(['userId','churn'])\n",
    "listDf.append(map_user_churn)"
   ]
  },
  {
   "cell_type": "code",
   "execution_count": 64,
   "metadata": {},
   "outputs": [
    {
     "data": {
      "text/plain": [
       "DataFrame[userId: string, churn: bigint]"
      ]
     },
     "execution_count": 64,
     "metadata": {},
     "output_type": "execute_result"
    }
   ],
   "source": [
    "map_user_churn"
   ]
  },
  {
   "cell_type": "markdown",
   "metadata": {},
   "source": [
    "### Feature 2: Predictor, Number of times the user has downgraded"
   ]
  },
  {
   "cell_type": "code",
   "execution_count": 65,
   "metadata": {},
   "outputs": [],
   "source": [
    "flag_downgrade_event = udf(lambda x: 1 if x == \"Submit Downgrade\" else 0, IntegerType())"
   ]
  },
  {
   "cell_type": "code",
   "execution_count": 66,
   "metadata": {},
   "outputs": [],
   "source": [
    "user_log = user_log.withColumn('downgraded', flag_downgrade_event('page'))"
   ]
  },
  {
   "cell_type": "code",
   "execution_count": 67,
   "metadata": {},
   "outputs": [
    {
     "data": {
      "text/plain": [
       "DataFrame[userId: string, number_downgrades: bigint]"
      ]
     },
     "execution_count": 67,
     "metadata": {},
     "output_type": "execute_result"
    }
   ],
   "source": [
    "map_user_downgrades = user_log.groupby('userId').agg({'downgraded':'sum'}).\\\n",
    "withColumn('number_downgrades',col('sum(downgraded)')).select(['userId','number_downgrades'])\n",
    "map_user_downgrades"
   ]
  },
  {
   "cell_type": "code",
   "execution_count": 68,
   "metadata": {},
   "outputs": [],
   "source": [
    "listDf.append(map_user_downgrades)"
   ]
  },
  {
   "cell_type": "markdown",
   "metadata": {},
   "source": [
    "### Feature 3: Predictor, Mean Number of songs played in a session"
   ]
  },
  {
   "cell_type": "code",
   "execution_count": 69,
   "metadata": {},
   "outputs": [],
   "source": [
    "map_songs_session = user_log.where(col('page')=='NextSong').groupby('userId','sessionId').count()\n",
    "map_songs_session = map_songs_session.groupby('userId').agg(avg('count').alias('number_songs'))"
   ]
  },
  {
   "cell_type": "code",
   "execution_count": 70,
   "metadata": {},
   "outputs": [],
   "source": [
    "listDf.append(map_songs_session)"
   ]
  },
  {
   "cell_type": "code",
   "execution_count": 71,
   "metadata": {},
   "outputs": [],
   "source": [
    "# map_songs_session.orderBy('number_songs').collect()"
   ]
  },
  {
   "cell_type": "markdown",
   "metadata": {},
   "source": [
    "### Feature 4: Sessions per day"
   ]
  },
  {
   "cell_type": "code",
   "execution_count": 72,
   "metadata": {},
   "outputs": [],
   "source": [
    "# corrected_date_diff = udf(lambda x: datediff(max(x), min(x)), IntegerType())\n",
    "map_sessions_day = user_log.groupby('userId').agg(countDistinct('sessionId').alias('sessions'), datediff(max('date'), min('date')).alias('days'))\\\n",
    ".withColumn('sessions_per_day', col('sessions')/(col('days')+1))\\\n",
    ".select(['userId','sessions_per_day'])\n",
    "\n",
    "listDf.append(map_sessions_day)"
   ]
  },
  {
   "cell_type": "code",
   "execution_count": 73,
   "metadata": {},
   "outputs": [
    {
     "data": {
      "text/plain": [
       "DataFrame[userId: string, sessions_per_day: double]"
      ]
     },
     "execution_count": 73,
     "metadata": {},
     "output_type": "execute_result"
    }
   ],
   "source": [
    "map_sessions_day"
   ]
  },
  {
   "cell_type": "markdown",
   "metadata": {},
   "source": [
    "### Feature 5: Time since registration"
   ]
  },
  {
   "cell_type": "code",
   "execution_count": 74,
   "metadata": {},
   "outputs": [],
   "source": [
    "map_since_registration = user_log.groupby('userId').agg(datediff(max('date'), min('registration_date')).alias('since_registration'))"
   ]
  },
  {
   "cell_type": "code",
   "execution_count": 75,
   "metadata": {},
   "outputs": [
    {
     "data": {
      "text/plain": [
       "DataFrame[userId: string, since_registration: int]"
      ]
     },
     "execution_count": 75,
     "metadata": {},
     "output_type": "execute_result"
    }
   ],
   "source": [
    "map_since_registration"
   ]
  },
  {
   "cell_type": "code",
   "execution_count": 76,
   "metadata": {},
   "outputs": [],
   "source": [
    "listDf.append(map_since_registration)"
   ]
  },
  {
   "cell_type": "markdown",
   "metadata": {},
   "source": [
    "### Feature 6: Number of thums up and down - as a difference"
   ]
  },
  {
   "cell_type": "code",
   "execution_count": 77,
   "metadata": {},
   "outputs": [
    {
     "name": "stdout",
     "output_type": "stream",
     "text": [
      "+-------+------------------+-----------------+\n",
      "|summary|            userID|        thumbs_up|\n",
      "+-------+------------------+-----------------+\n",
      "|  count|               439|              439|\n",
      "|   mean| 67308.81548974942|54.27334851936219|\n",
      "| stddev|106228.80408254788|69.94135178778987|\n",
      "|    min|                10|                1|\n",
      "|    max|                99|              506|\n",
      "+-------+------------------+-----------------+\n",
      "\n"
     ]
    }
   ],
   "source": [
    "# difference  of Thumbs-Up/Down\n",
    "map_thumbs_up = user_log.select('userID','page').where(user_log.page == 'Thumbs Up').groupBy('userID').count().\\\n",
    "withColumnRenamed('count', 'thumbs_up') \n",
    "map_thumbs_up.describe().show()"
   ]
  },
  {
   "cell_type": "code",
   "execution_count": 78,
   "metadata": {},
   "outputs": [
    {
     "name": "stdout",
     "output_type": "stream",
     "text": [
      "+-------+------------------+------------------+\n",
      "|summary|            userID|       thumbs_down|\n",
      "+-------+------------------+------------------+\n",
      "|  count|               389|               389|\n",
      "|   mean| 70031.19537275065|12.624678663239074|\n",
      "| stddev|106895.73735311361|13.582432851937995|\n",
      "|    min|                10|                 1|\n",
      "|    max|                99|                80|\n",
      "+-------+------------------+------------------+\n",
      "\n"
     ]
    }
   ],
   "source": [
    "map_thumbs_down = user_log.select('userID','page').where(user_log.page == 'Thumbs Down').groupBy('userID')\\\n",
    ".count().withColumnRenamed('count', 'thumbs_down') \n",
    "map_thumbs_down.describe().show()"
   ]
  },
  {
   "cell_type": "code",
   "execution_count": 79,
   "metadata": {},
   "outputs": [],
   "source": [
    "map_likeness = map_thumbs_up.join(map_thumbs_down, on='userId')\n",
    "map_likeness = map_likeness.withColumn('likeness', map_likeness.thumbs_up - map_likeness.thumbs_down)\\\n",
    ".select(['userId', 'likeness'])"
   ]
  },
  {
   "cell_type": "code",
   "execution_count": 80,
   "metadata": {},
   "outputs": [],
   "source": [
    "listDf.append(map_likeness)"
   ]
  },
  {
   "cell_type": "markdown",
   "metadata": {},
   "source": [
    "### Feature 7: Number of songs added to playlists"
   ]
  },
  {
   "cell_type": "code",
   "execution_count": 81,
   "metadata": {},
   "outputs": [],
   "source": [
    "# Number of songs added to playlist\n",
    "map_added_playlist = user_log.select('userID','page').where(user_log.page == 'Add to Playlist').\\\n",
    "groupBy('userID').count().withColumnRenamed('count', 'add_to_playlist')"
   ]
  },
  {
   "cell_type": "code",
   "execution_count": 82,
   "metadata": {},
   "outputs": [
    {
     "name": "stdout",
     "output_type": "stream",
     "text": [
      "+-------+------------------+------------------+\n",
      "|summary|            userID|   add_to_playlist|\n",
      "+-------+------------------+------------------+\n",
      "|  count|               428|               428|\n",
      "|   mean| 65764.93457943926|28.852803738317757|\n",
      "| stddev|105363.38578382805|33.913090694566286|\n",
      "|    min|                10|                 1|\n",
      "|    max|                99|               248|\n",
      "+-------+------------------+------------------+\n",
      "\n"
     ]
    }
   ],
   "source": [
    "map_added_playlist.describe().show()"
   ]
  },
  {
   "cell_type": "code",
   "execution_count": 83,
   "metadata": {},
   "outputs": [],
   "source": [
    "listDf.append(map_added_playlist)"
   ]
  },
  {
   "cell_type": "markdown",
   "metadata": {},
   "source": [
    "### Feature 8: predictor, Gender"
   ]
  },
  {
   "cell_type": "code",
   "execution_count": 84,
   "metadata": {},
   "outputs": [],
   "source": [
    "flag_gender = udf(lambda x: 1 if x == \"M\" else 0, IntegerType())\n",
    "\n",
    "user_log = user_log.withColumn('gender_coded', flag_gender('gender'))\n",
    "map_user_gender = user_log.groupby('userId').agg(max('gender_coded').alias('gender'))"
   ]
  },
  {
   "cell_type": "code",
   "execution_count": 85,
   "metadata": {},
   "outputs": [
    {
     "data": {
      "text/plain": [
       "DataFrame[userId: string, gender: int]"
      ]
     },
     "execution_count": 85,
     "metadata": {},
     "output_type": "execute_result"
    }
   ],
   "source": [
    "map_user_gender"
   ]
  },
  {
   "cell_type": "code",
   "execution_count": 86,
   "metadata": {},
   "outputs": [],
   "source": [
    "# # apart from groupby, you can also process by windows of rows\n",
    "# windowval = Window.partitionBy(\"userId\").orderBy(desc(\"ts\")).rangeBetween(Window.unboundedPreceding, 0)\n",
    "# user_log_valid = user_log_valid.withColumn(\"phase\", Fsum(\"downgraded\").over(windowval))\n",
    "# user_log_valid.select([\"userId\", \"firstname\", \"ts\", \"page\", \"level\", \"phase\"]).where(user_log.userId == \"1138\").sort(\"ts\").collect()"
   ]
  },
  {
   "cell_type": "code",
   "execution_count": 87,
   "metadata": {},
   "outputs": [],
   "source": [
    "listDf.append(map_user_gender)"
   ]
  },
  {
   "cell_type": "markdown",
   "metadata": {},
   "source": [
    "### At last, bring all together and create a dataframe where each row is a user, and the columns the engineered features"
   ]
  },
  {
   "cell_type": "code",
   "execution_count": 88,
   "metadata": {},
   "outputs": [
    {
     "data": {
      "text/plain": [
       "[DataFrame[userId: string, churn: bigint],\n",
       " DataFrame[userId: string, number_downgrades: bigint],\n",
       " DataFrame[userId: string, number_songs: double],\n",
       " DataFrame[userId: string, sessions_per_day: double],\n",
       " DataFrame[userId: string, since_registration: int],\n",
       " DataFrame[userId: string, likeness: bigint],\n",
       " DataFrame[userID: string, add_to_playlist: bigint],\n",
       " DataFrame[userId: string, gender: int]]"
      ]
     },
     "execution_count": 88,
     "metadata": {},
     "output_type": "execute_result"
    }
   ],
   "source": [
    "listDf"
   ]
  },
  {
   "cell_type": "code",
   "execution_count": 89,
   "metadata": {},
   "outputs": [],
   "source": [
    "df_res = listDf[0]\n",
    "for df_next in listDf[1:]:\n",
    "    df_res = df_res.join(df_next,on='userId',how='inner')\n",
    "df_res = df_res.fillna(0)"
   ]
  },
  {
   "cell_type": "code",
   "execution_count": 90,
   "metadata": {},
   "outputs": [
    {
     "name": "stdout",
     "output_type": "stream",
     "text": [
      "root\n",
      " |-- userId: string (nullable = true)\n",
      " |-- churn: long (nullable = true)\n",
      " |-- number_downgrades: long (nullable = true)\n",
      " |-- number_songs: double (nullable = false)\n",
      " |-- sessions_per_day: double (nullable = false)\n",
      " |-- since_registration: integer (nullable = true)\n",
      " |-- likeness: long (nullable = false)\n",
      " |-- add_to_playlist: long (nullable = false)\n",
      " |-- gender: integer (nullable = true)\n",
      "\n"
     ]
    }
   ],
   "source": [
    "df_res.printSchema()"
   ]
  },
  {
   "cell_type": "code",
   "execution_count": 91,
   "metadata": {},
   "outputs": [
    {
     "data": {
      "text/plain": [
       "384"
      ]
     },
     "execution_count": 91,
     "metadata": {},
     "output_type": "execute_result"
    }
   ],
   "source": [
    "df_res.count()"
   ]
  },
  {
   "cell_type": "markdown",
   "metadata": {},
   "source": [
    "That's the number of users we have informatio about"
   ]
  },
  {
   "cell_type": "code",
   "execution_count": 92,
   "metadata": {},
   "outputs": [
    {
     "data": {
      "text/plain": [
       "[Row(userId='100010', churn=1, number_downgrades=0, number_songs=48.0, sessions_per_day=0.5, since_registration=14, likeness=1, add_to_playlist=1, gender=0),\n",
       " Row(userId='200002', churn=1, number_downgrades=0, number_songs=62.0, sessions_per_day=0.16666666666666666, since_registration=54, likeness=10, add_to_playlist=6, gender=1),\n",
       " Row(userId='125', churn=0, number_downgrades=0, number_songs=20.666666666666668, sessions_per_day=0.06666666666666667, since_registration=106, likeness=2, add_to_playlist=2, gender=1),\n",
       " Row(userId='124', churn=1, number_downgrades=0, number_songs=114.125, sessions_per_day=0.40476190476190477, since_registration=112, likeness=87, add_to_playlist=45, gender=0),\n",
       " Row(userId='51', churn=1, number_downgrades=0, number_songs=53.2, sessions_per_day=0.3125, since_registration=19, likeness=15, add_to_playlist=8, gender=1)]"
      ]
     },
     "execution_count": 92,
     "metadata": {},
     "output_type": "execute_result"
    }
   ],
   "source": [
    "df_res.take(5)"
   ]
  },
  {
   "cell_type": "markdown",
   "metadata": {},
   "source": [
    "# Modeling\n",
    "Split the full dataset into train, test, and validation sets. Test out several of the machine learning methods you learned. Evaluate the accuracy of the various models, tuning parameters as necessary. Determine your winning model based on test accuracy and report results on the validation set. Since the churned users are a fairly small subset, I suggest using F1 score as the metric to optimize."
   ]
  },
  {
   "cell_type": "markdown",
   "metadata": {},
   "source": [
    "[Differences between pyspark ML and MLLIB](https://intellipaat.com/community/9624/whats-the-difference-between-spark-ml-and-mllib-packages): We will be using pyspark.mllib package, as it is the most recent API. pyspark.mllib is the old one, built on top of RDD."
   ]
  },
  {
   "cell_type": "markdown",
   "metadata": {},
   "source": [
    "df_res is out dataframe containing the target (churn) and the engineered features. We will convert the features to a vector using \n",
    "\n",
    "assembler = VectorAssembler(inputCols=[\"DescLength\"], outputCol=\"DescVec\")\n",
    "\n",
    "and then model a simple linearreg on top of that."
   ]
  },
  {
   "cell_type": "code",
   "execution_count": 93,
   "metadata": {},
   "outputs": [],
   "source": [
    "from pyspark.ml.classification import LogisticRegression\n",
    "from pyspark.ml.classification import GBTClassifier\n",
    "from pyspark.ml.classification import LinearSVC\n",
    "\n",
    "from pyspark.ml import Pipeline\n",
    "from pyspark.ml.tuning import CrossValidator, ParamGridBuilder\n",
    "from pyspark.ml.evaluation import BinaryClassificationEvaluator, MulticlassClassificationEvaluator\n",
    "from pyspark.ml.feature import OneHotEncoderEstimator, StringIndexer, VectorAssembler"
   ]
  },
  {
   "cell_type": "markdown",
   "metadata": {},
   "source": [
    "### Create Vector Assembler"
   ]
  },
  {
   "cell_type": "code",
   "execution_count": 94,
   "metadata": {},
   "outputs": [
    {
     "data": {
      "text/plain": [
       "['number_downgrades',\n",
       " 'number_songs',\n",
       " 'sessions_per_day',\n",
       " 'since_registration',\n",
       " 'likeness',\n",
       " 'add_to_playlist',\n",
       " 'gender']"
      ]
     },
     "execution_count": 94,
     "metadata": {},
     "output_type": "execute_result"
    }
   ],
   "source": [
    "features = [col for col in df_res.columns if col not in ['userId','churn']]\n",
    "features"
   ]
  },
  {
   "cell_type": "code",
   "execution_count": 95,
   "metadata": {},
   "outputs": [],
   "source": [
    "assembler = VectorAssembler(inputCols=features, outputCol=\"featureVec\")\n",
    "df_res = assembler.transform(df_res)"
   ]
  },
  {
   "cell_type": "markdown",
   "metadata": {},
   "source": [
    "### Select label and feature columns"
   ]
  },
  {
   "cell_type": "code",
   "execution_count": 96,
   "metadata": {
    "scrolled": false
   },
   "outputs": [
    {
     "data": {
      "text/plain": [
       "Row(label=1, features=DenseVector([0.0, 48.0, 0.5, 14.0, 1.0, 1.0, 0.0]))"
      ]
     },
     "execution_count": 96,
     "metadata": {},
     "output_type": "execute_result"
    }
   ],
   "source": [
    "data = df_res.select(col(\"churn\").alias(\"label\"), col(\"featureVec\").alias(\"features\"))\n",
    "data.head()"
   ]
  },
  {
   "cell_type": "markdown",
   "metadata": {},
   "source": [
    "### Split into train and test set"
   ]
  },
  {
   "cell_type": "code",
   "execution_count": 97,
   "metadata": {},
   "outputs": [],
   "source": [
    "# MODEL SELECTION AND TUNING\n",
    "# split dataset into train and test\n",
    "train, test = data.randomSplit([0.8, 0.2], seed=42)"
   ]
  },
  {
   "cell_type": "markdown",
   "metadata": {},
   "source": [
    "**Remember:** Even though we have only split into train and test set, train will be further split through the use of crossvalidation, and test will be only used once, after we have tuned our different choices of algorithms for a final evaluation on performance."
   ]
  },
  {
   "cell_type": "markdown",
   "metadata": {},
   "source": [
    "## Cross-validation"
   ]
  },
  {
   "cell_type": "markdown",
   "metadata": {},
   "source": [
    "Cross validation will be performed to get a better sense of the performance of these three algorithms: Logistic Regression, SVM and GBT. The chosen metric to assess this is F1-score, since we have kind of an unbalanced dataset, and therefore we care both about Precision and Recall, rather than Accuracy or plain ROC-AUC."
   ]
  },
  {
   "cell_type": "markdown",
   "metadata": {},
   "source": [
    "### Logistic Regression"
   ]
  },
  {
   "cell_type": "code",
   "execution_count": 98,
   "metadata": {},
   "outputs": [],
   "source": [
    "# initialize classifier\n",
    "log = LogisticRegression()\n",
    "\n",
    "# set evaluator\n",
    "f1_evaluator = MulticlassClassificationEvaluator(metricName='f1')\n",
    "\n",
    "\n",
    "# build paramGrid\n",
    "paramGrid = ParamGridBuilder().addGrid(log.maxIter,[5, 10]).addGrid(log.regParam,[0.5, 0.9]).build()\n",
    "\n",
    "crossval_log = CrossValidator(estimator=log,\n",
    "                          evaluator=f1_evaluator, \n",
    "                          estimatorParamMaps=paramGrid,\n",
    "                          numFolds=2)"
   ]
  },
  {
   "cell_type": "code",
   "execution_count": 99,
   "metadata": {},
   "outputs": [],
   "source": [
    "start = time()\n",
    "cvModel_log = crossval_log.fit(train)\n",
    "end = time()"
   ]
  },
  {
   "cell_type": "code",
   "execution_count": 100,
   "metadata": {},
   "outputs": [
    {
     "name": "stdout",
     "output_type": "stream",
     "text": [
      "The training process took 854.6084489822388 seconds\n",
      "[0.685193107094953]\n"
     ]
    }
   ],
   "source": [
    "print('The training process took {} seconds'.format(end - start))\n",
    "print(cvModel_log.avgMetrics)"
   ]
  },
  {
   "cell_type": "markdown",
   "metadata": {},
   "source": [
    "### SVM"
   ]
  },
  {
   "cell_type": "code",
   "execution_count": 101,
   "metadata": {},
   "outputs": [],
   "source": [
    "# initialize classifier\n",
    "svc = LinearSVC()\n",
    "\n",
    "# set evaluator\n",
    "f1_evaluator = MulticlassClassificationEvaluator(metricName='f1')\n",
    "\n",
    "# build paramGrid\n",
    "paramGrid = ParamGridBuilder().addGrid(svc.maxIter,[5, 10]).addGrid(svc.regParam,[0.5,0.9]).build()\n",
    "\n",
    "\n",
    "crossval_svc = CrossValidator(estimator=svc,\n",
    "                          evaluator=f1_evaluator, \n",
    "                          estimatorParamMaps=paramGrid,\n",
    "                          numFolds=2)"
   ]
  },
  {
   "cell_type": "code",
   "execution_count": 102,
   "metadata": {},
   "outputs": [],
   "source": [
    "start = time()\n",
    "cvModel_svc = crossval_svc.fit(train)\n",
    "end = time()"
   ]
  },
  {
   "cell_type": "code",
   "execution_count": 103,
   "metadata": {},
   "outputs": [
    {
     "name": "stdout",
     "output_type": "stream",
     "text": [
      "The training process took 899.5735673904419 seconds\n",
      "[0.6782509421947]\n"
     ]
    }
   ],
   "source": [
    "print('The training process took {} seconds'.format(end - start))\n",
    "print(cvModel_svc.avgMetrics)"
   ]
  },
  {
   "cell_type": "markdown",
   "metadata": {},
   "source": [
    "### Gradient Boosting Machines"
   ]
  },
  {
   "cell_type": "code",
   "execution_count": 104,
   "metadata": {},
   "outputs": [],
   "source": [
    "# initialize classifier\n",
    "gbt = GBTClassifier()\n",
    "\n",
    "# set evaluator\n",
    "f1_evaluator = MulticlassClassificationEvaluator(metricName='f1')\n",
    "\n",
    "# build paramGrid\n",
    "paramGrid = ParamGridBuilder().addGrid(gbt.maxDepth,[5, 10]).build()\n",
    "\n",
    "\n",
    "crossval_gbt = CrossValidator(estimator=gbt,\n",
    "                          evaluator=f1_evaluator, \n",
    "                          estimatorParamMaps=paramGrid,\n",
    "                          numFolds=2)"
   ]
  },
  {
   "cell_type": "code",
   "execution_count": 105,
   "metadata": {},
   "outputs": [],
   "source": [
    "start = time()\n",
    "cvModel_gbt = crossval_gbt.fit(train)\n",
    "end = time()"
   ]
  },
  {
   "cell_type": "code",
   "execution_count": 106,
   "metadata": {},
   "outputs": [
    {
     "name": "stdout",
     "output_type": "stream",
     "text": [
      "The training process took 1682.9717593193054 seconds\n",
      "[0.7685299251451683]\n"
     ]
    }
   ],
   "source": [
    "print('The training process took {} seconds'.format(end - start))\n",
    "print(cvModel_gbt.avgMetrics)"
   ]
  },
  {
   "cell_type": "markdown",
   "metadata": {},
   "source": [
    "# Evaluation on Test"
   ]
  },
  {
   "cell_type": "code",
   "execution_count": 129,
   "metadata": {},
   "outputs": [],
   "source": [
    "predictions = cvModel_gbt.bestModel.transform(test)"
   ]
  },
  {
   "cell_type": "code",
   "execution_count": 139,
   "metadata": {},
   "outputs": [],
   "source": [
    "# predictions.collect()"
   ]
  },
  {
   "cell_type": "code",
   "execution_count": 131,
   "metadata": {},
   "outputs": [
    {
     "name": "stdout",
     "output_type": "stream",
     "text": [
      "Test Area Under ROC 0.7995642701525055\n"
     ]
    }
   ],
   "source": [
    "from pyspark.ml.evaluation import BinaryClassificationEvaluator\n",
    "evaluator = BinaryClassificationEvaluator()\n",
    "print('Test Area Under ROC', evaluator.evaluate(predictions))"
   ]
  },
  {
   "cell_type": "code",
   "execution_count": 132,
   "metadata": {},
   "outputs": [
    {
     "name": "stdout",
     "output_type": "stream",
     "text": [
      "Model_gbt Metrics:\n",
      "Accuracy: 0.8591549295774648\n",
      "F-1 Score:0.8423431837710613\n"
     ]
    }
   ],
   "source": [
    "evaluator = MulticlassClassificationEvaluator(predictionCol=\"prediction\")\n",
    "print('Model_gbt Metrics:')\n",
    "print('Accuracy: {}'.format(evaluator.evaluate(predictions, {evaluator.metricName: \"accuracy\"})))\n",
    "print('F-1 Score:{}'.format(evaluator.evaluate(predictions, {evaluator.metricName: \"f1\"})))"
   ]
  },
  {
   "cell_type": "markdown",
   "metadata": {},
   "source": [
    "### Feature importance from GBT"
   ]
  },
  {
   "cell_type": "code",
   "execution_count": 133,
   "metadata": {},
   "outputs": [
    {
     "data": {
      "text/plain": [
       "{Param(parent='GBTClassifier_caf21f33b127', name='cacheNodeIds', doc='If false, the algorithm will pass trees to executors to match instances with nodes. If true, the algorithm will cache node IDs for each instance. Caching can speed up training of deeper trees.'): False,\n",
       " Param(parent='GBTClassifier_caf21f33b127', name='checkpointInterval', doc='set checkpoint interval (>= 1) or disable checkpoint (-1). E.g. 10 means that the cache will get checkpointed every 10 iterations. Note: this setting will be ignored if the checkpoint directory is not set in the SparkContext'): 10,\n",
       " Param(parent='GBTClassifier_caf21f33b127', name='featureSubsetStrategy', doc='The number of features to consider for splits at each tree node. Supported options: auto, all, onethird, sqrt, log2, (0.0-1.0], [1-n].'): 'all',\n",
       " Param(parent='GBTClassifier_caf21f33b127', name='featuresCol', doc='features column name'): 'features',\n",
       " Param(parent='GBTClassifier_caf21f33b127', name='labelCol', doc='label column name'): 'label',\n",
       " Param(parent='GBTClassifier_caf21f33b127', name='lossType', doc='Loss function which GBT tries to minimize (case-insensitive). Supported options: logistic'): 'logistic',\n",
       " Param(parent='GBTClassifier_caf21f33b127', name='maxBins', doc='Max number of bins for discretizing continuous features.  Must be >=2 and >= number of categories for any categorical feature.'): 32,\n",
       " Param(parent='GBTClassifier_caf21f33b127', name='maxDepth', doc='Maximum depth of the tree. (>= 0) E.g., depth 0 means 1 leaf node; depth 1 means 1 internal node + 2 leaf nodes.'): 5,\n",
       " Param(parent='GBTClassifier_caf21f33b127', name='maxIter', doc='maximum number of iterations (>= 0)'): 20,\n",
       " Param(parent='GBTClassifier_caf21f33b127', name='maxMemoryInMB', doc='Maximum memory in MB allocated to histogram aggregation.'): 256,\n",
       " Param(parent='GBTClassifier_caf21f33b127', name='minInfoGain', doc='Minimum information gain for a split to be considered at a tree node.'): 0.0,\n",
       " Param(parent='GBTClassifier_caf21f33b127', name='minInstancesPerNode', doc='Minimum number of instances each child must have after split.  If a split causes the left or right child to have fewer than minInstancesPerNode, the split will be discarded as invalid. Should be >= 1.'): 1,\n",
       " Param(parent='GBTClassifier_caf21f33b127', name='predictionCol', doc='prediction column name'): 'prediction',\n",
       " Param(parent='GBTClassifier_caf21f33b127', name='seed', doc='random seed'): 6271991045897195717,\n",
       " Param(parent='GBTClassifier_caf21f33b127', name='stepSize', doc='Step size (a.k.a. learning rate) in interval (0, 1] for shrinking the contribution of each estimator.'): 0.1,\n",
       " Param(parent='GBTClassifier_caf21f33b127', name='subsamplingRate', doc='Fraction of the training data used for learning each decision tree, in range (0, 1].'): 1.0}"
      ]
     },
     "execution_count": 133,
     "metadata": {},
     "output_type": "execute_result"
    }
   ],
   "source": [
    "bestmodel_gbt = cvModel_gbt.bestModel\n",
    "bestmodel_gbt.extractParamMap()"
   ]
  },
  {
   "cell_type": "code",
   "execution_count": 187,
   "metadata": {},
   "outputs": [],
   "source": [
    "feat_imp = bestmodel_gbt.featureImportances.values\n",
    "cols = features\n",
    "y_pos = np.arange(len(cols))"
   ]
  },
  {
   "cell_type": "code",
   "execution_count": 188,
   "metadata": {},
   "outputs": [
    {
     "data": {
      "text/plain": [
       "[(0, 'number_downgrades', 0.057525951185347646),\n",
       " (1, 'number_songs', 0.22303021104482917),\n",
       " (2, 'sessions_per_day', 0.20538580022347022),\n",
       " (3, 'since_registration', 0.19746365649432415),\n",
       " (4, 'likeness', 0.18938443469776894),\n",
       " (5, 'add_to_playlist', 0.12011482908729103),\n",
       " (6, 'gender', 0.007095117266968846)]"
      ]
     },
     "execution_count": 188,
     "metadata": {},
     "output_type": "execute_result"
    }
   ],
   "source": [
    "list(zip(y_pos, features, feat_imp))"
   ]
  },
  {
   "cell_type": "code",
   "execution_count": 189,
   "metadata": {},
   "outputs": [],
   "source": [
    "feat_imp_sort = [feat_imp[i] for i in np.argsort(feat_imp)]"
   ]
  },
  {
   "cell_type": "code",
   "execution_count": 190,
   "metadata": {},
   "outputs": [],
   "source": [
    "col_sort = [features[i] for i in np.argsort(feat_imp)]"
   ]
  },
  {
   "cell_type": "code",
   "execution_count": 191,
   "metadata": {},
   "outputs": [
    {
     "data": {
      "image/png": "[encoded data removed]",
      "text/plain": [
       "<Figure size 432x288 with 1 Axes>"
      ]
     },
     "metadata": {
      "needs_background": "light"
     },
     "output_type": "display_data"
    }
   ],
   "source": [
    "plt.barh(y_pos,feat_imp_sort)\n",
    "plt.yticks(y_pos, col_sort)\n",
    "plt.xlabel('Importance Score')\n",
    "plt.title('GBT Feature Importances');"
   ]
  },
  {
   "cell_type": "markdown",
   "metadata": {},
   "source": [
    "# Final Steps\n",
    "Clean up your code, adding comments and renaming variables to make the code easier to read and maintain. Refer to the Spark Project Overview page and Data Scientist Capstone Project Rubric to make sure you are including all components of the capstone project and meet all expectations. Remember, this includes thorough documentation in a README file in a Github repository, as well as a web app or blog post."
   ]
  }
 ],
 "metadata": {
  "kernelspec": {
   "display_name": "Python 3.6 with Spark",
   "language": "python3",
   "name": "python36"
  },
  "language_info": {
   "codemirror_mode": {
    "name": "ipython",
    "version": 3
   },
   "file_extension": ".py",
   "mimetype": "text/x-python",
   "name": "python",
   "nbconvert_exporter": "python",
   "pygments_lexer": "ipython3",
   "version": "3.6.8"
  }
 },
 "nbformat": 4,
 "nbformat_minor": 2
}
